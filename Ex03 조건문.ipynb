{
 "cells": [
  {
   "cell_type": "code",
   "execution_count": 1,
   "id": "e60c7e26",
   "metadata": {},
   "outputs": [],
   "source": [
    "# 조건문 : 상황에 따라 실행 흐름을 다르게 하는 문법\n",
    "# if, elif (if else 줄여놓은것), else"
   ]
  },
  {
   "cell_type": "code",
   "execution_count": null,
   "id": "ff71f54f",
   "metadata": {},
   "outputs": [],
   "source": [
    "# if 조건식 : (콜론)\n",
    "#     실행문장\n",
    "# (실행문 쓰기 전 들여쓰기 해야함 탭키, 스페이스바*4)"
   ]
  },
  {
   "cell_type": "code",
   "execution_count": 2,
   "id": "fb4a28b9",
   "metadata": {},
   "outputs": [
    {
     "name": "stdout",
     "output_type": "stream",
     "text": [
      "실행\n",
      "if문 밖에 있는 실행문장\n"
     ]
    }
   ],
   "source": [
    "if True :\n",
    "    print(\"실행\")\n",
    "print(\"if문 밖에 있는 실행문장\")"
   ]
  },
  {
   "cell_type": "code",
   "execution_count": 3,
   "id": "b1861f87",
   "metadata": {},
   "outputs": [
    {
     "name": "stdout",
     "output_type": "stream",
     "text": [
      "if문 밖에 있는 실행문장\n"
     ]
    }
   ],
   "source": [
    "if False :\n",
    "    print(\"실행\")\n",
    "print(\"if문 밖에 있는 실행문장\")"
   ]
  },
  {
   "cell_type": "code",
   "execution_count": 4,
   "id": "ce93397a",
   "metadata": {},
   "outputs": [],
   "source": [
    "if False :\n",
    "    print(\"실행\")\n",
    "    print(\"if문 밖에 있는 실행문장\")\n",
    "# if영역안으로 넣어서 값이 나오지 않음\n",
    "# 다중if문 일때 들여쓰기 주의하기"
   ]
  },
  {
   "cell_type": "code",
   "execution_count": 6,
   "id": "f765cf99",
   "metadata": {},
   "outputs": [
    {
     "name": "stdout",
     "output_type": "stream",
     "text": [
      "현재 소유한 금액 >> 10000\n",
      "택시를 탄다\n"
     ]
    }
   ],
   "source": [
    "# 조건문을 이용해서 money라는 변수에 10,000원 이상이라면 \"택시를 탄다\" 문구 출력\n",
    "money = int(input(\"현재 소유한 금액 >> \"))\n",
    "\n",
    "if money >= 10000 :\n",
    "    print(\"택시를 탄다\")"
   ]
  },
  {
   "cell_type": "code",
   "execution_count": 8,
   "id": "9e4f2946",
   "metadata": {},
   "outputs": [
    {
     "name": "stdout",
     "output_type": "stream",
     "text": [
      "현재 소유한 금액 >> 8000\n",
      "걷는다\n"
     ]
    }
   ],
   "source": [
    "money = int(input(\"현재 소유한 금액 >> \"))\n",
    "\n",
    "if money >= 10000 :\n",
    "    print(\"택시를 탄다\")\n",
    "else :\n",
    "    print(\"걷는다\")"
   ]
  },
  {
   "cell_type": "code",
   "execution_count": 10,
   "id": "d8da03e5",
   "metadata": {},
   "outputs": [
    {
     "name": "stdout",
     "output_type": "stream",
     "text": [
      "얼마있어요? >> 10000원\n",
      "택시를 탄다\n"
     ]
    }
   ],
   "source": [
    "# 변수 설정\n",
    "money = input(\"얼마있어요? >> \")\n",
    "\n",
    "# 문자 쪼개기 = spliet\n",
    "mon = int(money.split(\"원\")[0])\n",
    "if mon >= 10000 :\n",
    "    print(\"택시를 탄다\")\n",
    "else :\n",
    "    print(\"걷던가 버스 타\")"
   ]
  },
  {
   "cell_type": "code",
   "execution_count": 11,
   "id": "18454a19",
   "metadata": {},
   "outputs": [
    {
     "name": "stdout",
     "output_type": "stream",
     "text": [
      "숫자 입력 >> 15\n",
      "3과 5의 배수입니다\n"
     ]
    }
   ],
   "source": [
    "# 변수 num을 입력받고 3의 배수이면서 의 배수\n",
    "num = int(input(\"숫자 입력 >> \"))\n",
    "if num % 3 == 0 & num % 5 == 0 :\n",
    "    print(\"3과 5의 배수입니다\")\n",
    "else :\n",
    "    print(\"3과 5의 배수가 아닙니다\")"
   ]
  },
  {
   "cell_type": "code",
   "execution_count": 15,
   "id": "f3fe5ac0",
   "metadata": {},
   "outputs": [
    {
     "name": "stdout",
     "output_type": "stream",
     "text": [
      "마스크 개수 입력18\n",
      "8개들이 포장지 개수 :  2\n",
      "5개들이 포장지 개수 :  1\n"
     ]
    }
   ],
   "source": [
    "mask = int(input(\"마스크 개수 입력\"))\n",
    "po8 = \"8개들이 포장지 개수 : \"\n",
    "po5 = \"5개들이 포장지 개수 : \"\n",
    "if mask < 7 :\n",
    "    if mask%5 == 0 :\n",
    "        print(po5,mask//5)\n",
    "        print(po8,0)\n",
    "    else :\n",
    "        print(po5,mask//5+1)\n",
    "        print(po8,0)\n",
    "elif mask == 13:\n",
    "    print(po8,mask//8)\n",
    "    print(po5,mask&8//5)\n",
    "elif mask%8 == 0 :\n",
    "    print(po8,mask//8)\n",
    "    print(po5,0)\n",
    "else :\n",
    "    print(po8, mask//8)\n",
    "    print(po5, mask%8//5+1)"
   ]
  },
  {
   "cell_type": "code",
   "execution_count": null,
   "id": "f593711d",
   "metadata": {},
   "outputs": [],
   "source": [
    "# elif\n",
    "# if 조건식1 :\n",
    "#    실행문장 1\n",
    "# elif 조건식 :\n",
    "#    실행문장 2\n",
    "# else :\n",
    "#    실행문장 3"
   ]
  },
  {
   "cell_type": "code",
   "execution_count": 16,
   "id": "594d569c",
   "metadata": {},
   "outputs": [
    {
     "name": "stdout",
     "output_type": "stream",
     "text": [
      "숫자 입력 >> 3\n",
      "숫자 입력 >> 1\n",
      "첫 번째 정수가 더 큽니다.\n"
     ]
    }
   ],
   "source": [
    "num1 = int(input(\"숫자 입력 >> \"))\n",
    "num2 = int(input(\"숫자 입력 >> \"))\n",
    "\n",
    "if num1 > num2 :\n",
    "    print(\"첫 번째 정수가 더 큽니다.\")\n",
    "elif num1 < num2 :\n",
    "    print(\"두 번째 정수가 더 큽니다.\")\n",
    "else :\n",
    "    print(\"두 수가 같아요\")"
   ]
  },
  {
   "cell_type": "code",
   "execution_count": 17,
   "id": "9acc4241",
   "metadata": {},
   "outputs": [
    {
     "name": "stdout",
     "output_type": "stream",
     "text": [
      "점수 입력 >> 90\n",
      "90점은(는) A학점입니다.\n"
     ]
    }
   ],
   "source": [
    "score = int(input(\"점수 입력 >> \"))\n",
    "\n",
    "grade =\"\"\n",
    "\n",
    "if score > 100 :\n",
    "    print(\"점수 잘못 입력했어요\")\n",
    "else :\n",
    "    if score >= 90 :\n",
    "        grade = \"A\"\n",
    "    elif score >= 80 :\n",
    "        grade = \"B\"\n",
    "    elif score >= 70 :\n",
    "        grade = \"C\"\n",
    "    elif score >= 60 :\n",
    "        grade = \"D\"\n",
    "    else :\n",
    "        grade = \"F\"\n",
    "    print(f\"{score}점은(는) {grade}학점입니다.\")\n",
    "    \n",
    "    \n"
   ]
  },
  {
   "cell_type": "code",
   "execution_count": 18,
   "id": "16ed7100",
   "metadata": {},
   "outputs": [
    {
     "name": "stdout",
     "output_type": "stream",
     "text": [
      "나이 입력 >> 65\n",
      "요금은 375원 입니다.\n"
     ]
    }
   ],
   "source": [
    "age = int(input(\"나이 입력 >> \"))\n",
    "money =  1500\n",
    "\n",
    "if age < 5 :\n",
    "    num = money//2\n",
    "elif age < 20 :\n",
    "    num = int(money*0.75)\n",
    "elif age < 65 :\n",
    "    num = money\n",
    "else : \n",
    "    num = money * 0.25\n",
    "print(f\"요금은 {int(num)}원 입니다.\")"
   ]
  },
  {
   "cell_type": "code",
   "execution_count": 7,
   "id": "1f12614d",
   "metadata": {},
   "outputs": [
    {
     "name": "stdout",
     "output_type": "stream",
     "text": [
      "1.콜라    2.사이다    3.물\n",
      "  600       800         1000\n",
      "insert coin >> 2000\n",
      "메뉴 선택 >> 1\n",
      "콜라\n",
      "잔돈 >> 1000원 1개, 500원 0개, 100원 0개\n"
     ]
    }
   ],
   "source": [
    "print(\"1.콜라    2.사이다    3.물\")\n",
    "print(\"  600       800         1000\")\n",
    "change = 0\n",
    "\n",
    "pay = int(input(\"insert coin >> \"))\n",
    "\n",
    "menu = int(input(\"메뉴 선택 >> \"))\n",
    "\n",
    "if menu == 1:\n",
    "    if pay < 600 :\n",
    "        print(\"잔액부족\")\n",
    "        change = pay\n",
    "    else :\n",
    "        change = pay - 600\n",
    "        print(\"콜라\")\n",
    "elif menu == 2 :\n",
    "    if pay < 800 :\n",
    "        print(\"잔액부족\")\n",
    "        change = pay\n",
    "    else :\n",
    "        change = pay - 800\n",
    "        print(\"사이다\")\n",
    "elif menu == 3 :\n",
    "    if pay < 1000 :\n",
    "        print(\"잔액부족\")\n",
    "        change = pay\n",
    "    else : \n",
    "        change = pay - 1000\n",
    "        print(\"물\")\n",
    "else : \n",
    "    print(\"잘못된 메뉴 선택\")\n",
    "    change = pay\n",
    "change1 =//1000\n",
    "change2 = change&1000//500\n",
    "change3 = change&1000&500//100\n",
    "\n",
    "print(f\"잔돈 >> 1000원 {change1}개, 500원 {change2}개, 100원 {change3}개\")\n"
   ]
  }
 ],
 "metadata": {
  "kernelspec": {
   "display_name": "Python 3 (ipykernel)",
   "language": "python",
   "name": "python3"
  },
  "language_info": {
   "codemirror_mode": {
    "name": "ipython",
    "version": 3
   },
   "file_extension": ".py",
   "mimetype": "text/x-python",
   "name": "python",
   "nbconvert_exporter": "python",
   "pygments_lexer": "ipython3",
   "version": "3.11.5"
  }
 },
 "nbformat": 4,
 "nbformat_minor": 5
}
