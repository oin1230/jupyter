{
 "cells": [
  {
   "cell_type": "code",
   "execution_count": null,
   "id": "a9ddae8c",
   "metadata": {},
   "outputs": [],
   "source": [
    "# while문 사용해서 \"파이썬 최고\"를 10번 출력하세요\n",
    "num = 1\n",
    "while num <= 10 :\n",
    "    print(f\"파이썬 최고!! {num}번째\")\n",
    "    num += 1"
   ]
  },
  {
   "cell_type": "code",
   "execution_count": null,
   "id": "b947409b",
   "metadata": {},
   "outputs": [],
   "source": [
    "while True :\n",
    "    print(\"무한루프\")\n",
    "    break"
   ]
  },
  {
   "cell_type": "code",
   "execution_count": null,
   "id": "dd055e48",
   "metadata": {},
   "outputs": [],
   "source": [
    "num = 1\n",
    "\n",
    "while True :\n",
    "    print(num)\n",
    "    num += 1\n",
    "    if num > 3 :\n",
    "        break"
   ]
  },
  {
   "cell_type": "code",
   "execution_count": null,
   "id": "893b6bf7",
   "metadata": {},
   "outputs": [],
   "source": [
    "# while문 활용 문제\n",
    "# while문을 활용해서 이름을 입력받고\n",
    "# 입력받은 이름 최고! 출력\n",
    "# 단, 입력받은 이름이 강아람이면, \"아파서 속상해요\" 출력\n",
    "# while문을 멈추도록 하자\n",
    "\n",
    "while True :\n",
    "    name = input(\"이름 >> \")   \n",
    "    if name == \"강아람\" :\n",
    "        print(\"아파서 속상해요\")\n",
    "        break\n",
    "    else :\n",
    "        print(f\"{name} 최고!!\")\n",
    "    \n",
    "   \n",
    "    "
   ]
  },
  {
   "cell_type": "code",
   "execution_count": null,
   "id": "b2144712",
   "metadata": {},
   "outputs": [],
   "source": [
    "while True :\n",
    "    num1 = int(input(\"첫 번째 정수 입력 >> \"))\n",
    "    num2 = int(input(\"두 번째 정수 입력 >> \"))\n",
    "    if (num1 == 0) & (num2 == 0) :\n",
    "        print(\"프로그램이 종료되었습니다.\")\n",
    "        break\n",
    "    else :\n",
    "        print(f\"두 정수의 합 : {num1+num2}\")\n",
    "    "
   ]
  },
  {
   "cell_type": "code",
   "execution_count": null,
   "id": "ea2e0026",
   "metadata": {},
   "outputs": [],
   "source": [
    "n = int(input(\"현재 몸무게 >> \"))\n",
    "g = int(input(\"목표 몸무게 >> \"))\n",
    "w = 1\n",
    "\n",
    "while True :\n",
    "    if n <= g :\n",
    "        print(f\"{n}kg ㅊㅊㅊㅊㅊㅊ\")\n",
    "        break\n",
    "    else :\n",
    "        m = int(input(f\"{w}주차 감량 몸무게 >> \"))\n",
    "        n -= m\n",
    "        w += 1\n",
    "        \n",
    "    "
   ]
  },
  {
   "cell_type": "code",
   "execution_count": null,
   "id": "288e23b0",
   "metadata": {},
   "outputs": [],
   "source": [
    "# Up Down 게임 만들기\n",
    "import random\n",
    "\n",
    "num = random.randint(1, 100)\n",
    "\n",
    "while True :\n",
    "    a = int(input(\"숫자를 입력하세요 >> \"))\n",
    "    \n",
    "    if num > a :\n",
    "        print(f\"{a}보다 큰 수 입니다.\")\n",
    "    elif num < a :\n",
    "        print(f\"{a}보다 작은 수 입니다.\")\n",
    "    else :\n",
    "        print(\"축!\")\n",
    "        break"
   ]
  },
  {
   "cell_type": "code",
   "execution_count": null,
   "id": "4c681410",
   "metadata": {},
   "outputs": [],
   "source": [
    "# for문\n",
    "# for 변수 in 문자열(or 리스트 or 튜플) :\n",
    "#    print(변수)\n",
    "list_food = [\"햄버거\",\"치킨\",\"피자\"]\n",
    "for food in list_food:\n",
    "    print(food)\n"
   ]
  },
  {
   "cell_type": "code",
   "execution_count": null,
   "id": "ecdd9058",
   "metadata": {},
   "outputs": [],
   "source": [
    "hi = \"안녕하세요\"\n",
    "for s in hi :\n",
    "    print(s)"
   ]
  },
  {
   "cell_type": "code",
   "execution_count": null,
   "id": "4ed668ec",
   "metadata": {},
   "outputs": [],
   "source": [
    "score_list = [90, 45, 70, 60, 55]\n",
    "num = 0\n",
    "for score in score_list :\n",
    "    num += 1\n",
    "    if score >= 60 :\n",
    "        print(f\"{num}번 학생은 합격입니다.\")\n",
    "        \n",
    "    else :\n",
    "        print(f\"{num}번 학생은 불합격입니다.\")\n",
    "        \n",
    "    "
   ]
  },
  {
   "cell_type": "code",
   "execution_count": null,
   "id": "21ca4b5d",
   "metadata": {},
   "outputs": [],
   "source": [
    "python_score = [57, 86, 63, 92, 35, 79]\n",
    "cnt = 1\n",
    "\n",
    "for score in python_score :\n",
    "    if score >= 80 :\n",
    "        grade = \"A\"\n",
    "    elif score >= 60 :\n",
    "        grade = \"B\"\n",
    "    else :\n",
    "        grade = \"C\"\n",
    "    print(f\"{cnt}번은 {score}점 이며, {grade}등급 입니다.\")\n",
    "    cnt += 1\n",
    "        "
   ]
  },
  {
   "cell_type": "code",
   "execution_count": null,
   "id": "6c080a94",
   "metadata": {},
   "outputs": [],
   "source": [
    "# range()함수 사용\n",
    "# 필요한 만큼의 숫자를 만들어내는 유용한 기능\n",
    "# range(시작할 숫자, 종료할 숫자, 증가량)\n",
    "# range(1, 10, 1) -> 1부터 9까지 1씩 증가\n",
    "# range(1, 100, 3) -> 1부터 99까지 3씩 증가\n",
    "# range(10, 1, 01) -> 10부터 2까지 1씩 감소(-1씩 증가)"
   ]
  },
  {
   "cell_type": "code",
   "execution_count": null,
   "id": "f1ac028e",
   "metadata": {},
   "outputs": [],
   "source": [
    "# print(end = 출력후에 어떤 작업을 할것인가? 옵션지정, Ex) 개행, 띄어쓰기)\n",
    "for i in range(1,10,1):\n",
    "    print(i, end =\" \")\n"
   ]
  },
  {
   "cell_type": "code",
   "execution_count": null,
   "id": "66bc5a5f",
   "metadata": {},
   "outputs": [],
   "source": [
    "# range 함수의 속성\n",
    "# range(시작값, 끝 값 +1, 증감량)\n",
    "# 1. 하나의 값을 생략하는 경우(증감량 생략(기본값 : +1))\n",
    "for i in range(1, 10):\n",
    "    print(i, end = \" \")"
   ]
  },
  {
   "cell_type": "code",
   "execution_count": null,
   "id": "f938b136",
   "metadata": {},
   "outputs": [],
   "source": [
    "# 2. 두개의 값을 생략하는 경우(시작값 생략(기본값 : 0), 증감량 생략(기본값 : +1))\n",
    "for i in range(10):\n",
    "    print(i, end = \" \")"
   ]
  },
  {
   "cell_type": "code",
   "execution_count": null,
   "id": "e972bcb0",
   "metadata": {},
   "outputs": [],
   "source": [
    "for i in range(97, 76, -1) :\n",
    "    print(i, end=\" \")"
   ]
  },
  {
   "cell_type": "code",
   "execution_count": null,
   "id": "07a407f3",
   "metadata": {},
   "outputs": [],
   "source": [
    "for i in range(23, 40):\n",
    "    print(i, end= \" \")"
   ]
  },
  {
   "cell_type": "code",
   "execution_count": null,
   "id": "57b997db",
   "metadata": {},
   "outputs": [],
   "source": [
    "# 이차원 리스트 출력하기\n",
    "list1 =[[1,2],[3,4],[5,6]]\n",
    "\n",
    "for i,j in list1 :\n",
    "    print(i, j)"
   ]
  },
  {
   "cell_type": "code",
   "execution_count": null,
   "id": "6d528385",
   "metadata": {},
   "outputs": [],
   "source": [
    "list2 = [4,5,2,1,99,15,3,7,27]\n",
    "min = list2[0]\n",
    "\n",
    "for i in list2 :\n",
    "    \n",
    "    if min > i :\n",
    "        min = i\n",
    "\n",
    "print(min)\n",
    "    "
   ]
  },
  {
   "cell_type": "code",
   "execution_count": null,
   "id": "760ae798",
   "metadata": {},
   "outputs": [],
   "source": [
    "# 1부터 100사이의 숫자중 3의 배수인 값들의 합을 출력하세요.\n",
    "sum = 0\n",
    "for i in range(0, 101, 3) :\n",
    "    sum += i\n",
    "print(sum)"
   ]
  },
  {
   "cell_type": "code",
   "execution_count": null,
   "id": "144278c5",
   "metadata": {},
   "outputs": [],
   "source": [
    "# for문을 이용하여 구구단 2단을 출력하세요\n",
    "\n",
    "for i in range(1,10) :\n",
    "    print(f\"2 * {i} = {2 * i}\")"
   ]
  },
  {
   "cell_type": "code",
   "execution_count": null,
   "id": "3b95da8b",
   "metadata": {},
   "outputs": [],
   "source": [
    "# 약수 구하기\n",
    "num = int(input(\"정수 입력 >> \"))\n",
    "\n",
    "print(f\"{num}의 약수 :\", end = \" \")\n",
    "for i in range(1, num+1) :\n",
    "    if num % i == 0 :\n",
    "        print(i, end = \" \")"
   ]
  },
  {
   "cell_type": "code",
   "execution_count": null,
   "id": "87459fb6",
   "metadata": {},
   "outputs": [],
   "source": [
    "# 실습 예제\n",
    "\n",
    "for i in range(1,7) :\n",
    "    print( \"*\"* i)"
   ]
  },
  {
   "cell_type": "code",
   "execution_count": null,
   "id": "077b598b",
   "metadata": {},
   "outputs": [],
   "source": [
    "for i in range(1,7) :\n",
    "    print(\"*\" * i)\n",
    "    if i == 6 :\n",
    "        for j in range (5,0,-1) :\n",
    "            print(\"*\" * j)"
   ]
  },
  {
   "cell_type": "code",
   "execution_count": null,
   "id": "cb61ba7a",
   "metadata": {},
   "outputs": [],
   "source": [
    "for i in range(1,7) :\n",
    "    print(\"*\" * i)\n",
    "for j in range (5,0,-1) :\n",
    "    print(\"*\" * j)"
   ]
  },
  {
   "cell_type": "code",
   "execution_count": 9,
   "id": "5138879c",
   "metadata": {},
   "outputs": [
    {
     "name": "stdout",
     "output_type": "stream",
     "text": [
      "Life is too short, You need python."
     ]
    }
   ],
   "source": [
    "s = \".nohtyp deen uoY ,trohs oot si efiL\"\n",
    "\n",
    "for i in range( len(s)-1, -1, -1) :\n",
    "    print(s[i], end =\"\")\n",
    "    "
   ]
  },
  {
   "cell_type": "code",
   "execution_count": 7,
   "id": "a163f6c4",
   "metadata": {},
   "outputs": [
    {
     "data": {
      "text/plain": [
       "'Life is too short, You need python.'"
      ]
     },
     "execution_count": 7,
     "metadata": {},
     "output_type": "execute_result"
    }
   ],
   "source": [
    "s = \".nohtyp deen uoY ,trohs oot si efiL\"\n",
    "s[ : : -1]"
   ]
  },
  {
   "cell_type": "code",
   "execution_count": null,
   "id": "ffe6f1d6",
   "metadata": {},
   "outputs": [],
   "source": []
  }
 ],
 "metadata": {
  "kernelspec": {
   "display_name": "Python 3 (ipykernel)",
   "language": "python",
   "name": "python3"
  },
  "language_info": {
   "codemirror_mode": {
    "name": "ipython",
    "version": 3
   },
   "file_extension": ".py",
   "mimetype": "text/x-python",
   "name": "python",
   "nbconvert_exporter": "python",
   "pygments_lexer": "ipython3",
   "version": "3.11.5"
  }
 },
 "nbformat": 4,
 "nbformat_minor": 5
}
