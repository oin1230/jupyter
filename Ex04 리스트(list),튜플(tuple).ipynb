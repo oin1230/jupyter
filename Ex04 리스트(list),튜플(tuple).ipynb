{
 "cells": [
  {
   "cell_type": "code",
   "execution_count": null,
   "id": "88fb3966",
   "metadata": {},
   "outputs": [],
   "source": [
    "# list\n",
    "# 순서가 있는 수정가능한 객체의 집합\n",
    "# 추가, 수정, 삭제 가능\n",
    "# 인덱싱, 슬라이싱 많이 씀"
   ]
  },
  {
   "cell_type": "code",
   "execution_count": 2,
   "id": "62c22cf7",
   "metadata": {},
   "outputs": [
    {
     "name": "stdout",
     "output_type": "stream",
     "text": [
      "[] [1, 2, 3] ['my', 'name', 'is', 'jbs'] [1, 2, 'my', 'name'] [1, 2, ['my', 'name']]\n"
     ]
    }
   ],
   "source": [
    "# fltmxmaud = [요소1, 요소2, 요소3.....]\n",
    "a = []\n",
    "b = [1,2,3]\n",
    "c = [\"my\", \"name\", \"is\", \"jbs\"]\n",
    "d = [1, 2, \"my\", \"name\"]\n",
    " # 2차원 리스트\n",
    "e = [1, 2,[\"my\", \"name\"]]\n",
    "print(a, b, c, d, e)"
   ]
  },
  {
   "cell_type": "code",
   "execution_count": 3,
   "id": "eda6db89",
   "metadata": {},
   "outputs": [
    {
     "data": {
      "text/plain": [
       "[0, 1, 2, 3, 4, 5, 6, 7, 8, 9]"
      ]
     },
     "execution_count": 3,
     "metadata": {},
     "output_type": "execute_result"
    }
   ],
   "source": [
    "# 인덱싱, 슬라이싱 예제\n",
    "# 1. 내부의 값이 0부터 9까지 있는 리스트를 만들어주세요.\n",
    "list1 = [0, 1, 2, 3, 4, 5, 6, 7, 8, 9]\n",
    "list1"
   ]
  },
  {
   "cell_type": "code",
   "execution_count": 4,
   "id": "c8446239",
   "metadata": {},
   "outputs": [
    {
     "data": {
      "text/plain": [
       "4"
      ]
     },
     "execution_count": 4,
     "metadata": {},
     "output_type": "execute_result"
    }
   ],
   "source": [
    "# 인덱싱 문제\n",
    "# 1-1 숫자 4 가져오기\n",
    "list1[4]"
   ]
  },
  {
   "cell_type": "code",
   "execution_count": 6,
   "id": "52e972b4",
   "metadata": {},
   "outputs": [
    {
     "data": {
      "text/plain": [
       "(4, 9, 7)"
      ]
     },
     "execution_count": 6,
     "metadata": {},
     "output_type": "execute_result"
    }
   ],
   "source": [
    "# 1-2 숫자 4,9,7 rkwudhrl\n",
    "list1[4], list1[9], list1[7]"
   ]
  },
  {
   "cell_type": "code",
   "execution_count": 7,
   "id": "d1e87048",
   "metadata": {},
   "outputs": [
    {
     "data": {
      "text/plain": [
       "[1, 2, 3, ['a', 'b', 'c']]"
      ]
     },
     "execution_count": 7,
     "metadata": {},
     "output_type": "execute_result"
    }
   ],
   "source": [
    "# 2. 숫자 1,2,3과 [a,b,c]를 이용 2차원 리스트 만들기\n",
    "list2 = [1, 2, 3,]\n",
    "list2"
   ]
  },
  {
   "cell_type": "code",
   "execution_count": 9,
   "id": "7d863ee6",
   "metadata": {},
   "outputs": [
    {
     "data": {
      "text/plain": [
       "['a', 'b', 'c']"
      ]
     },
     "execution_count": 9,
     "metadata": {},
     "output_type": "execute_result"
    }
   ],
   "source": [
    "# 2-1 temp 변수 지정 [a,b,c]가 들어있는 리스트 인덱싱\n",
    "temp = list2[3]\n",
    "temp"
   ]
  },
  {
   "cell_type": "code",
   "execution_count": 10,
   "id": "c26134cc",
   "metadata": {},
   "outputs": [
    {
     "data": {
      "text/plain": [
       "'b'"
      ]
     },
     "execution_count": 10,
     "metadata": {},
     "output_type": "execute_result"
    }
   ],
   "source": [
    "# 2-2 temp에서 b문자만 인덱싱\n",
    "temp[1]"
   ]
  },
  {
   "cell_type": "code",
   "execution_count": 11,
   "id": "bfdea34d",
   "metadata": {},
   "outputs": [
    {
     "data": {
      "text/plain": [
       "'b'"
      ]
     },
     "execution_count": 11,
     "metadata": {},
     "output_type": "execute_result"
    }
   ],
   "source": [
    "# 2-3 다른 형태로\n",
    "list2[3][1]"
   ]
  },
  {
   "cell_type": "code",
   "execution_count": 13,
   "id": "bf19dde4",
   "metadata": {},
   "outputs": [
    {
     "data": {
      "text/plain": [
       "5"
      ]
     },
     "execution_count": 13,
     "metadata": {},
     "output_type": "execute_result"
    }
   ],
   "source": [
    "list3 = [[0,1,2,3],[4,5,6,7],[8,9,10,11],[12,13,14,15]]\n",
    "list3\n",
    "list3[1][1]"
   ]
  },
  {
   "cell_type": "code",
   "execution_count": 14,
   "id": "4b306f9d",
   "metadata": {},
   "outputs": [
    {
     "data": {
      "text/plain": [
       "[0, 1, 2, 3, 4, 5, 6, 7, 8, 9]"
      ]
     },
     "execution_count": 14,
     "metadata": {},
     "output_type": "execute_result"
    }
   ],
   "source": [
    "# 슬라이싱\n",
    "# 인덱스 숫자 0부터 시작\n",
    "# 슬라이싱 끝 값 +1\n",
    "list1"
   ]
  },
  {
   "cell_type": "code",
   "execution_count": 15,
   "id": "fd18295e",
   "metadata": {},
   "outputs": [
    {
     "data": {
      "text/plain": [
       "[3, 4, 5, 6, 7]"
      ]
     },
     "execution_count": 15,
     "metadata": {},
     "output_type": "execute_result"
    }
   ],
   "source": [
    "# 1-1 3부터 7까지\n",
    "list1[3:8]"
   ]
  },
  {
   "cell_type": "code",
   "execution_count": 17,
   "id": "0e84cceb",
   "metadata": {},
   "outputs": [
    {
     "data": {
      "text/plain": [
       "[0, 1, 2, 3, 4]"
      ]
     },
     "execution_count": 17,
     "metadata": {},
     "output_type": "execute_result"
    }
   ],
   "source": [
    "# 1-2 0부터 4까지\n",
    "list1[:5]"
   ]
  },
  {
   "cell_type": "code",
   "execution_count": 19,
   "id": "f4d0b612",
   "metadata": {},
   "outputs": [
    {
     "data": {
      "text/plain": [
       "[6, 7, 8, 9]"
      ]
     },
     "execution_count": 19,
     "metadata": {},
     "output_type": "execute_result"
    }
   ],
   "source": [
    "# 1-3 6-9까지\n",
    "list1[6 : ]"
   ]
  },
  {
   "cell_type": "code",
   "execution_count": 20,
   "id": "e8b8e806",
   "metadata": {},
   "outputs": [
    {
     "data": {
      "text/plain": [
       "[0, 1, 2, 3, 4, 5, 6, 7, 8, 9]"
      ]
     },
     "execution_count": 20,
     "metadata": {},
     "output_type": "execute_result"
    }
   ],
   "source": [
    "# 1-4 전체\n",
    "list1[:]"
   ]
  },
  {
   "cell_type": "code",
   "execution_count": 21,
   "id": "6a2621d7",
   "metadata": {},
   "outputs": [
    {
     "data": {
      "text/plain": [
       "[0, 1, 2, 3, 4, 5, 6, 7, 8, 9, 0, 1, 2, 3, 4, 5, 6, 7, 8, 9]"
      ]
     },
     "execution_count": 21,
     "metadata": {},
     "output_type": "execute_result"
    }
   ],
   "source": [
    "list1 + list1"
   ]
  },
  {
   "cell_type": "code",
   "execution_count": 22,
   "id": "4a4b9e3e",
   "metadata": {},
   "outputs": [
    {
     "data": {
      "text/plain": [
       "[1, 2, 3, 4, 5]"
      ]
     },
     "execution_count": 22,
     "metadata": {},
     "output_type": "execute_result"
    }
   ],
   "source": [
    "# 리스트 맨 뒤 값 추가\n",
    "list4 = [1,2,3,4,5]\n",
    "list4"
   ]
  },
  {
   "cell_type": "code",
   "execution_count": 23,
   "id": "e48b88ea",
   "metadata": {},
   "outputs": [
    {
     "data": {
      "text/plain": [
       "[1, 2, 3, 4, 5, 6]"
      ]
     },
     "execution_count": 23,
     "metadata": {},
     "output_type": "execute_result"
    }
   ],
   "source": [
    "# append(추가해줄 값) : 리스트 맨 뒤에 추가해주는 함수\n",
    "list4.append(6)\n",
    "list4"
   ]
  },
  {
   "cell_type": "code",
   "execution_count": 26,
   "id": "dc53eb5d",
   "metadata": {},
   "outputs": [
    {
     "data": {
      "text/plain": [
       "['사과', '수박', '오렌지']"
      ]
     },
     "execution_count": 26,
     "metadata": {},
     "output_type": "execute_result"
    }
   ],
   "source": [
    "# 인덱싱, 어펜드 실습\n",
    "list_ =[\"사과\", \"포도\",[\"수박\",\"멜론\"],\"복숭아\",\"딸기\",\"오렌지\"]\n",
    "choice_list=[]\n",
    "choice_list.append(list_[0])\n",
    "choice_list.append(list_[2][0])\n",
    "choice_list.append(list_[5])\n",
    "choice_list"
   ]
  },
  {
   "cell_type": "code",
   "execution_count": null,
   "id": "59ca7669",
   "metadata": {},
   "outputs": [],
   "source": [
    "# insert(인덱스 번호, 넣어줄 값)\n",
    "\n",
    "# 리스트 수정\n",
    "# list[수정할 인덱스] = \" 수정할 값 \"\n",
    "\n",
    "# 리스트 삭제\n",
    "# del[삭제할 인덱스 번호]\n",
    "# 리스트 범위 삭제\n",
    "# del[삭제할 인덱스 번호 시작 : 삭제할 인덱스 번호 끝 +1 ]\n",
    "\n",
    "# 리스트 삭제2\n",
    "# remove()\n",
    "# .remove(\"삭제할 값\")"
   ]
  },
  {
   "cell_type": "code",
   "execution_count": 30,
   "id": "7a73c912",
   "metadata": {},
   "outputs": [
    {
     "name": "stdout",
     "output_type": "stream",
     "text": [
      "입력 >> 조\n",
      "조(은)는 없어요\n"
     ]
    }
   ],
   "source": [
    "# 문자열에 사용자가 입력한 글자가 몇개 포함되어 있는지 출력을 해주세요\n",
    "s = \"오늘은 금요일입니다.\"\n",
    "# 입력문 받기\n",
    "a = input(\"입력 >> \")\n",
    "# 우리가 지정한 문장에서 입력받은 글자가 몇개 있는지 체크를 해보자\n",
    "b = s.count(a)\n",
    "# s.count(a) s(문자열)에 a(문자)가 몇번 들어있는지 카운트\n",
    "\n",
    "# 조건문 작성\n",
    "# 만약 우리가 입력받은 글자가 s라는 문장 내부에 있따면\n",
    "if a in s :\n",
    "    print(f\"{a}(은)는 {b}번 들어있네요\")\n",
    "else :\n",
    "    print(f\"{a}(은)는 없어요\")"
   ]
  }
 ],
 "metadata": {
  "kernelspec": {
   "display_name": "Python 3 (ipykernel)",
   "language": "python",
   "name": "python3"
  },
  "language_info": {
   "codemirror_mode": {
    "name": "ipython",
    "version": 3
   },
   "file_extension": ".py",
   "mimetype": "text/x-python",
   "name": "python",
   "nbconvert_exporter": "python",
   "pygments_lexer": "ipython3",
   "version": "3.11.5"
  }
 },
 "nbformat": 4,
 "nbformat_minor": 5
}
