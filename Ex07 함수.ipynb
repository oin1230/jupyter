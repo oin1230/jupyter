{
 "cells": [
  {
   "cell_type": "code",
   "execution_count": null,
   "id": "7a57bd67",
   "metadata": {},
   "outputs": [],
   "source": [
    "# def(define) 함수명 (매개변수) :\n",
    "#    실행문장\n",
    "#    return 반환변수"
   ]
  },
  {
   "cell_type": "code",
   "execution_count": 3,
   "id": "dd83b71e",
   "metadata": {},
   "outputs": [],
   "source": [
    "# 예시 함수를 하나 만들어보자\n",
    "def hello (name) : # 인사메쏘드\n",
    "    return f\"{name}씨 안녕하세요\""
   ]
  },
  {
   "cell_type": "code",
   "execution_count": 4,
   "id": "f6d17eae",
   "metadata": {},
   "outputs": [
    {
     "data": {
      "text/plain": [
       "'범쑤씨 안녕하세요'"
      ]
     },
     "execution_count": 4,
     "metadata": {},
     "output_type": "execute_result"
    }
   ],
   "source": [
    "hello(\"범쑤\")"
   ]
  },
  {
   "cell_type": "code",
   "execution_count": 10,
   "id": "4cfb9c16",
   "metadata": {},
   "outputs": [],
   "source": [
    "def number_sum(num1, num2) :\n",
    "    result = num1 + num2\n",
    "    return result"
   ]
  },
  {
   "cell_type": "code",
   "execution_count": 13,
   "id": "4d54e718",
   "metadata": {},
   "outputs": [
    {
     "data": {
      "text/plain": [
       "13"
      ]
     },
     "execution_count": 13,
     "metadata": {},
     "output_type": "execute_result"
    }
   ],
   "source": [
    "number_sum(3,10)\n",
    "number = number_sum(3,10)\n",
    "number"
   ]
  },
  {
   "cell_type": "code",
   "execution_count": 19,
   "id": "b1f8a012",
   "metadata": {},
   "outputs": [
    {
     "name": "stdout",
     "output_type": "stream",
     "text": [
      "첫번째 정수 입력 >> 9531\n",
      "두번째 정수 입력 >> 87411\n"
     ]
    },
    {
     "data": {
      "text/plain": [
       "77880"
      ]
     },
     "execution_count": 19,
     "metadata": {},
     "output_type": "execute_result"
    }
   ],
   "source": [
    "def number_minus(num1,num2) :\n",
    "    if num1 > num2 :\n",
    "       return num1 - num2\n",
    "    else :\n",
    "        return num2 - num1\n",
    "\n",
    "num1 = int(input(\"첫번째 정수 입력 >> \"))\n",
    "num2 = int(input(\"두번째 정수 입력 >> \"))\n",
    "\n",
    "result = number_minus(num1, num2)\n",
    "result"
   ]
  },
  {
   "cell_type": "code",
   "execution_count": 9,
   "id": "0b9310cd",
   "metadata": {},
   "outputs": [
    {
     "name": "stdout",
     "output_type": "stream",
     "text": [
      "첫 번째 정수 입력 >> 5\n",
      "첫 번째 정수 입력 >> 3\n",
      "연산자 입력(+, -) >> +\n",
      "결과 : 8\n"
     ]
    }
   ],
   "source": [
    "num1 = int(input(\"첫 번째 정수 입력 >> \"))\n",
    "num2 = int(input(\"첫 번째 정수 입력 >> \"))\n",
    "op = input(\"연산자 입력(+, -) >> \")\n",
    "\n",
    "def cal(num1, num2, op) :\n",
    "    \"\"\"덧셈과 뺄셈을 해주는 함수\"\"\"\n",
    "    if op == \"+\" :\n",
    "        return num1 + num2\n",
    "    elif op ==\"-\" :\n",
    "        if num1 > num2 :\n",
    "            return num1 - num2\n",
    "        else :\n",
    "            return num2 - num1\n",
    "\n",
    "result = cal(num1, num2, op)\n",
    "print(\"결과 : {}\".format(result))\n"
   ]
  },
  {
   "cell_type": "code",
   "execution_count": null,
   "id": "6d109fdc",
   "metadata": {},
   "outputs": [],
   "source": [
    "# 가변 매개변수(*)\n",
    "# : 함수 호출 시 몇 개의 인수가 전달될지 알 수 없다면,\n",
    "#  사용자가 직접 매개변수의 개수를 정할수 있도록 선언\n",
    "# def 함수명 (*매개변수) :\n",
    "#     실행문장\n",
    "#     return 반환변수"
   ]
  },
  {
   "cell_type": "code",
   "execution_count": 11,
   "id": "cd1d4551",
   "metadata": {},
   "outputs": [],
   "source": [
    "# 여러개의 숫자를 받아서 모두 더해주는 함수를 만들어보자\n",
    "def add(*args) :\n",
    "    return sum(args)"
   ]
  },
  {
   "cell_type": "code",
   "execution_count": 13,
   "id": "4672b04f",
   "metadata": {},
   "outputs": [
    {
     "data": {
      "text/plain": [
       "105719"
      ]
     },
     "execution_count": 13,
     "metadata": {},
     "output_type": "execute_result"
    }
   ],
   "source": [
    "add(45611,58877,1231)"
   ]
  },
  {
   "cell_type": "code",
   "execution_count": 14,
   "id": "58d80196",
   "metadata": {},
   "outputs": [],
   "source": [
    "def add_sub(num1, num2) :\n",
    "    return num1 + num2, num1 - num2\n",
    "# 하나의 *자료구조에 두 개의 값이 출력된다"
   ]
  },
  {
   "cell_type": "code",
   "execution_count": 19,
   "id": "afee2d67",
   "metadata": {},
   "outputs": [
    {
     "name": "stdout",
     "output_type": "stream",
     "text": [
      "첫번째 정수 입력 >> 8\n",
      "두번째 정수 입력 >> 5\n",
      "결과 : (13, 3)\n"
     ]
    }
   ],
   "source": [
    "num1 = int(input(\"첫번째 정수 입력 >> \"))\n",
    "num2 = int(input(\"두번째 정수 입력 >> \"))\n",
    "\n",
    "rs = add_sub(num1, num2)\n",
    "print(f\"결과 : {rs}\")"
   ]
  },
  {
   "cell_type": "code",
   "execution_count": 20,
   "id": "b49f88dc",
   "metadata": {},
   "outputs": [
    {
     "data": {
      "text/plain": [
       "13"
      ]
     },
     "execution_count": 20,
     "metadata": {},
     "output_type": "execute_result"
    }
   ],
   "source": [
    "# 값을 하나씩 가져오는 방법 1 : 인덱승\n",
    "rs[0]"
   ]
  },
  {
   "cell_type": "code",
   "execution_count": 27,
   "id": "3f24a4d1",
   "metadata": {},
   "outputs": [
    {
     "name": "stdout",
     "output_type": "stream",
     "text": [
      "8 2\n"
     ]
    }
   ],
   "source": [
    "# 값을 하나씩 가져오는 방법 2 : 다중 변수 입력\n",
    "rs_add, rs_minus = add_sub(5,3)\n",
    "print(rs_add, rs_minus)"
   ]
  },
  {
   "cell_type": "code",
   "execution_count": 31,
   "id": "8bfe58e6",
   "metadata": {},
   "outputs": [],
   "source": [
    "# 함수 기본값 설정하기\n",
    "# ** : 지수연산\n",
    "def power_of_n(num, power=2) :\n",
    "    return num ** power"
   ]
  },
  {
   "cell_type": "code",
   "execution_count": 36,
   "id": "f091a400",
   "metadata": {},
   "outputs": [
    {
     "data": {
      "text/plain": [
       "64"
      ]
     },
     "execution_count": 36,
     "metadata": {},
     "output_type": "execute_result"
    }
   ],
   "source": [
    "power_of_n(4, 3)"
   ]
  }
 ],
 "metadata": {
  "kernelspec": {
   "display_name": "Python 3 (ipykernel)",
   "language": "python",
   "name": "python3"
  },
  "language_info": {
   "codemirror_mode": {
    "name": "ipython",
    "version": 3
   },
   "file_extension": ".py",
   "mimetype": "text/x-python",
   "name": "python",
   "nbconvert_exporter": "python",
   "pygments_lexer": "ipython3",
   "version": "3.11.5"
  }
 },
 "nbformat": 4,
 "nbformat_minor": 5
}
