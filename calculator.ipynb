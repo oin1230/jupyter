{
 "cells": [
  {
   "cell_type": "code",
   "execution_count": 2,
   "id": "247d0012",
   "metadata": {},
   "outputs": [],
   "source": [
    "def add(num1, num2) :\n",
    "    return num1 + num2\n",
    "\n",
    "def minus(num1, num2) :\n",
    "    return num1 - num2\n",
    "\n",
    "def mul(num1, num2) :\n",
    "    return num1 * num2\n",
    "\n",
    "def div(num1, num2) :\n",
    "    return num1 / num2"
   ]
  }
 ],
 "metadata": {
  "kernelspec": {
   "display_name": "Python 3 (ipykernel)",
   "language": "python",
   "name": "python3"
  },
  "language_info": {
   "codemirror_mode": {
    "name": "ipython",
    "version": 3
   },
   "file_extension": ".py",
   "mimetype": "text/x-python",
   "name": "python",
   "nbconvert_exporter": "python",
   "pygments_lexer": "ipython3",
   "version": "3.11.5"
  }
 },
 "nbformat": 4,
 "nbformat_minor": 5
}
