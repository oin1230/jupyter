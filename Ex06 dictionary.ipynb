{
 "cells": [
  {
   "cell_type": "code",
   "execution_count": 1,
   "id": "1506f77a",
   "metadata": {},
   "outputs": [
    {
     "data": {
      "text/plain": [
       "{}"
      ]
     },
     "execution_count": 1,
     "metadata": {},
     "output_type": "execute_result"
    }
   ],
   "source": [
    "# 딕셔너리(dictionary)\n",
    "# 딕셔너리명 = {key : value, key : value}\n",
    "# 값이 비어있는 빈 딕셔너리 만들기\n",
    "a = {}\n",
    "a"
   ]
  },
  {
   "cell_type": "code",
   "execution_count": 8,
   "id": "e1e8a5cb",
   "metadata": {},
   "outputs": [
    {
     "data": {
      "text/plain": [
       "{'name': '범수신'}"
      ]
     },
     "execution_count": 8,
     "metadata": {},
     "output_type": "execute_result"
    }
   ],
   "source": [
    "b = {\"name\" : \"범수신\"}\n",
    "b"
   ]
  },
  {
   "cell_type": "code",
   "execution_count": 11,
   "id": "51439c64",
   "metadata": {},
   "outputs": [
    {
     "data": {
      "text/plain": [
       "{'name': 'IY', 'age': 31, 'phone': '010-5625-0000'}"
      ]
     },
     "execution_count": 11,
     "metadata": {},
     "output_type": "execute_result"
    }
   ],
   "source": [
    "nic = {\"name\" : \"IY\", \"age\" : 31, \"phone\" : \"010-5625-0000\"}\n",
    "nic"
   ]
  },
  {
   "cell_type": "code",
   "execution_count": 13,
   "id": "635d0931",
   "metadata": {},
   "outputs": [
    {
     "data": {
      "text/plain": [
       "{'name': 'IY', 'age': 31, 'phone': '010-5625-0000', 'gender': '12/11'}"
      ]
     },
     "execution_count": 13,
     "metadata": {},
     "output_type": "execute_result"
    }
   ],
   "source": [
    "# 딕셔너리 값 추가해보기\n",
    "# 기존 딕셔너리에 없는 key값을 설정해서 value값을 추가하면,\n",
    "# 딕셔너리에 값이 추가 된다.\n",
    "nic[\"gender\"] = \"12/11\"\n",
    "nic"
   ]
  },
  {
   "cell_type": "code",
   "execution_count": 14,
   "id": "920d648a",
   "metadata": {},
   "outputs": [
    {
     "data": {
      "text/plain": [
       "{'노래제목': '라일락'}"
      ]
     },
     "execution_count": 14,
     "metadata": {},
     "output_type": "execute_result"
    }
   ],
   "source": [
    "dic_test = {\"노래제목\" : \"라일락\"}\n",
    "dic_test"
   ]
  },
  {
   "cell_type": "code",
   "execution_count": 16,
   "id": "9b17cf8c",
   "metadata": {},
   "outputs": [
    {
     "data": {
      "text/plain": [
       "{'노래제목': '라일락', '가수': '아이유', '날짜': '2021.03.26'}"
      ]
     },
     "execution_count": 16,
     "metadata": {},
     "output_type": "execute_result"
    }
   ],
   "source": [
    "dic_test[\"가수\"] = \"아이유\"\n",
    "dic_test[\"날짜\"] = \"2021.03.26\"\n",
    "dic_test"
   ]
  },
  {
   "cell_type": "code",
   "execution_count": 19,
   "id": "f23cd766",
   "metadata": {},
   "outputs": [
    {
     "name": "stdout",
     "output_type": "stream",
     "text": [
      "딕셔너리 수정전 :  {'name': 'IY', 'age': 31, 'phone': '010-5625-0000', 'gender': '12/11'}\n",
      "딕셔너리 수정후 :  {'name': 'IY', 'age': 31, 'phone': '010-5625-0000', 'gender': '남자'}\n"
     ]
    }
   ],
   "source": [
    "# 딕셔너리 수정\n",
    "print(\"딕셔너리 수정전 : \", nic)\n",
    "# 수정해야하는 value값의 key를 가져오자\n",
    "nic[\"gender\"] = \"남자\"\n",
    "print(\"딕셔너리 수정후 : \", nic)"
   ]
  },
  {
   "cell_type": "markdown",
   "id": "b74b72a4",
   "metadata": {},
   "source": [
    "- nic[\"gender\"] = \"남자\"\n",
    "    - 기존의 key 값이 존재하지않을 경우 -> 값이 추가된다.\n",
    "    - 기존의 key 값이 존재할 경우 -> 값이 수정된다."
   ]
  },
  {
   "cell_type": "code",
   "execution_count": 22,
   "id": "10472333",
   "metadata": {},
   "outputs": [
    {
     "ename": "KeyError",
     "evalue": "'age'",
     "output_type": "error",
     "traceback": [
      "\u001b[1;31m---------------------------------------------------------------------------\u001b[0m",
      "\u001b[1;31mKeyError\u001b[0m                                  Traceback (most recent call last)",
      "Cell \u001b[1;32mIn[22], line 3\u001b[0m\n\u001b[0;32m      1\u001b[0m \u001b[38;5;66;03m# 딕셔너리 값 삭제\u001b[39;00m\n\u001b[0;32m      2\u001b[0m \u001b[38;5;66;03m# del\u001b[39;00m\n\u001b[1;32m----> 3\u001b[0m \u001b[38;5;28;01mdel\u001b[39;00m nic[\u001b[38;5;124m\"\u001b[39m\u001b[38;5;124mage\u001b[39m\u001b[38;5;124m\"\u001b[39m]\n\u001b[0;32m      4\u001b[0m nic\n",
      "\u001b[1;31mKeyError\u001b[0m: 'age'"
     ]
    }
   ],
   "source": [
    "# 딕셔너리 값 삭제\n",
    "# del\n",
    "del nic[\"age\"]"
   ]
  },
  {
   "cell_type": "code",
   "execution_count": 23,
   "id": "923fea52",
   "metadata": {},
   "outputs": [
    {
     "data": {
      "text/plain": [
       "{'name': 'IY', 'phone': '010-5625-0000', 'gender': '남자'}"
      ]
     },
     "execution_count": 23,
     "metadata": {},
     "output_type": "execute_result"
    }
   ],
   "source": [
    "nic"
   ]
  },
  {
   "cell_type": "code",
   "execution_count": 25,
   "id": "c7653636",
   "metadata": {},
   "outputs": [
    {
     "data": {
      "text/plain": [
       "'IY'"
      ]
     },
     "execution_count": 25,
     "metadata": {},
     "output_type": "execute_result"
    }
   ],
   "source": [
    "# 딕셔너리는 순서가 없는 집합 -> 인덱스 번호가 없다.\n",
    "# 데이터를 가져오기 위해서 기준이 필요하다!\n",
    "# 기준은 변하면 안되기에 불변의 값 Key를 사용한다.\n",
    "# 이름을 가져와보자\n",
    "nic[\"name\"]"
   ]
  },
  {
   "cell_type": "code",
   "execution_count": 26,
   "id": "2510ec3d",
   "metadata": {},
   "outputs": [
    {
     "data": {
      "text/plain": [
       "'남자'"
      ]
     },
     "execution_count": 26,
     "metadata": {},
     "output_type": "execute_result"
    }
   ],
   "source": [
    "# 성별을 가져와보자\n",
    "nic[\"gender\"]"
   ]
  },
  {
   "cell_type": "code",
   "execution_count": 27,
   "id": "ad046507",
   "metadata": {},
   "outputs": [
    {
     "data": {
      "text/plain": [
       "'남자'"
      ]
     },
     "execution_count": 27,
     "metadata": {},
     "output_type": "execute_result"
    }
   ],
   "source": [
    "# get 함수 이용\n",
    "# 딕셔너리명.get(\"Key값\")\n",
    "nic.get(\"gender\")"
   ]
  },
  {
   "cell_type": "code",
   "execution_count": 35,
   "id": "c36fb79a",
   "metadata": {},
   "outputs": [
    {
     "ename": "KeyError",
     "evalue": "'age'",
     "output_type": "error",
     "traceback": [
      "\u001b[1;31m---------------------------------------------------------------------------\u001b[0m",
      "\u001b[1;31mKeyError\u001b[0m                                  Traceback (most recent call last)",
      "Cell \u001b[1;32mIn[35], line 3\u001b[0m\n\u001b[0;32m      1\u001b[0m \u001b[38;5;66;03m# 딕셔너리명[\"Key\"] vs 딕셔너리명.get(\"Key\")\u001b[39;00m\n\u001b[0;32m      2\u001b[0m \u001b[38;5;66;03m# 방금전에 삭제한 age를 Key값으로 가져오자(1)\u001b[39;00m\n\u001b[1;32m----> 3\u001b[0m \u001b[38;5;28mprint\u001b[39m(nic[\u001b[38;5;124m\"\u001b[39m\u001b[38;5;124mage\u001b[39m\u001b[38;5;124m\"\u001b[39m])\n",
      "\u001b[1;31mKeyError\u001b[0m: 'age'"
     ]
    }
   ],
   "source": [
    "# 딕셔너리명[\"Key\"] vs 딕셔너리명.get(\"Key\")\n",
    "# 방금전에 삭제한 age를 Key값으로 가져오자(1)\n",
    "print(nic[\"age\"])"
   ]
  },
  {
   "cell_type": "code",
   "execution_count": 34,
   "id": "52742795",
   "metadata": {},
   "outputs": [
    {
     "name": "stdout",
     "output_type": "stream",
     "text": [
      "None\n"
     ]
    }
   ],
   "source": [
    "print(nic.get(\"age\"))"
   ]
  },
  {
   "cell_type": "code",
   "execution_count": 38,
   "id": "9d38707f",
   "metadata": {},
   "outputs": [
    {
     "data": {
      "text/plain": [
       "dict_keys(['name', 'phone', 'gender'])"
      ]
     },
     "execution_count": 38,
     "metadata": {},
     "output_type": "execute_result"
    }
   ],
   "source": [
    "# 딕셔너리의 구조 상 전체Key값만 필요할 경우\n",
    "nic.keys()"
   ]
  },
  {
   "cell_type": "code",
   "execution_count": 39,
   "id": "ee7166cb",
   "metadata": {},
   "outputs": [
    {
     "data": {
      "text/plain": [
       "dict_values(['IY', '010-5625-0000', '남자'])"
      ]
     },
     "execution_count": 39,
     "metadata": {},
     "output_type": "execute_result"
    }
   ],
   "source": [
    "# 딕셔너리의 구조 상 전체Value값만 필요할 경우\n",
    "nic.values()"
   ]
  },
  {
   "cell_type": "code",
   "execution_count": 41,
   "id": "446c6029",
   "metadata": {},
   "outputs": [
    {
     "data": {
      "text/plain": [
       "{'규남': [30, '010.2841.8972', '남자', 178, 78],\n",
       " '상원': [25, '010.0000.0000', '남자', 174, 60]}"
      ]
     },
     "execution_count": 41,
     "metadata": {},
     "output_type": "execute_result"
    }
   ],
   "source": [
    "# 딕셔너리 value값에는 리스트 또는 튜플도 들어간다.\n",
    "dic1 = {\"규남\" : [30, \"010.2841.8972\", \"남자\", 178, 78],\n",
    "       \"상원\" : [25, \"010.0000.0000\",\"남자\", 174, 60]}\n",
    "dic1"
   ]
  },
  {
   "cell_type": "code",
   "execution_count": 43,
   "id": "cfe02961",
   "metadata": {},
   "outputs": [
    {
     "data": {
      "text/plain": [
       "30"
      ]
     },
     "execution_count": 43,
     "metadata": {},
     "output_type": "execute_result"
    }
   ],
   "source": [
    "# Value값에 리스트 또는 튜플이 있다면, 리스트 / 튜플 전체를 가져온다\n",
    "dic1[\"규남\"]\n",
    "\n",
    "# 가져온 리스트에서 원하는 정보를 인덱스 번호로 가져올 수 있다.\n",
    "dic1[\"규남\"][0]"
   ]
  },
  {
   "cell_type": "code",
   "execution_count": 49,
   "id": "5d8c6dc5",
   "metadata": {},
   "outputs": [
    {
     "name": "stdout",
     "output_type": "stream",
     "text": [
      "IY\n",
      "010-5625-0000\n",
      "남자\n"
     ]
    }
   ],
   "source": [
    "# 반복문을 활용해서 딕셔너리 사용해보기\n",
    "# value값을 이용해서 for문 써보기\n",
    "for value in nic.values() :\n",
    "    print(value)"
   ]
  },
  {
   "cell_type": "code",
   "execution_count": 51,
   "id": "1cc8abde",
   "metadata": {},
   "outputs": [
    {
     "data": {
      "text/plain": [
       "dict_items([('name', 'IY'), ('phone', '010-5625-0000'), ('gender', '남자')])"
      ]
     },
     "execution_count": 51,
     "metadata": {},
     "output_type": "execute_result"
    }
   ],
   "source": [
    "# item : 딕셔너리의 key와 value 모두 가져오는 함수\n",
    "nic.items()"
   ]
  },
  {
   "cell_type": "code",
   "execution_count": 54,
   "id": "a34c5800",
   "metadata": {},
   "outputs": [
    {
     "name": "stdout",
     "output_type": "stream",
     "text": [
      "('name', 'IY')\n",
      "('phone', '010-5625-0000')\n",
      "('gender', '남자')\n",
      "name \t IY\n",
      "phone \t 010-5625-0000\n",
      "gender \t 남자\n"
     ]
    }
   ],
   "source": [
    "for key in nic.items() :\n",
    "    print(key)\n",
    "for key,value in nic.items() :\n",
    "    print(key, \"\\t\", value)"
   ]
  },
  {
   "cell_type": "code",
   "execution_count": 56,
   "id": "a71940e1",
   "metadata": {},
   "outputs": [
    {
     "data": {
      "text/plain": [
       "{'규남': [30, '010.2841.8972', '남자', 178, 78],\n",
       " '상원': [25, '010.0000.0000', '남자', 174, 60],\n",
       " '동희': [26, '010.1111.1111', '남자', 180, 68],\n",
       " '은해': [23, '010.2222.2222', '여자', 168, 55]}"
      ]
     },
     "execution_count": 56,
     "metadata": {},
     "output_type": "execute_result"
    }
   ],
   "source": [
    "dic1 = {\"규남\" : [30, \"010.2841.8972\", \"남자\", 178, 78],\n",
    "       \"상원\" : [25, \"010.0000.0000\",\"남자\", 174, 60],\n",
    "       \"동희\" : [26, \"010.1111.1111\", \"남자\", 180, 68],\n",
    "       \"은해\" : [23, \"010.2222.2222\", \"여자\", 168, 55]}\n",
    "dic1"
   ]
  },
  {
   "cell_type": "code",
   "execution_count": 59,
   "id": "c4504893",
   "metadata": {},
   "outputs": [
    {
     "name": "stdout",
     "output_type": "stream",
     "text": [
      "30\n",
      "25\n",
      "26\n",
      "23\n"
     ]
    }
   ],
   "source": [
    "# 딕셔너리에서 반복문 자주쓸 때,\n",
    "for key in dic1.keys() :\n",
    "    print(dic1[key][0])"
   ]
  },
  {
   "cell_type": "code",
   "execution_count": 66,
   "id": "348a2d39",
   "metadata": {},
   "outputs": [
    {
     "data": {
      "text/plain": [
       "True"
      ]
     },
     "execution_count": 66,
     "metadata": {},
     "output_type": "execute_result"
    }
   ],
   "source": [
    "# 딕셔너리에서 in 함수 사용\n",
    "# 딕셔너리에서 in 함수는 key에 한해 동작한다.\n",
    "\"gender\" in nic\n"
   ]
  },
  {
   "cell_type": "code",
   "execution_count": 67,
   "id": "dd372c70",
   "metadata": {},
   "outputs": [
    {
     "name": "stdout",
     "output_type": "stream",
     "text": [
      "{}\n"
     ]
    }
   ],
   "source": [
    "# clear() - 딕셔너리 내부값 초기화\n",
    "nic.clear()\n",
    "print(nic)"
   ]
  }
 ],
 "metadata": {
  "kernelspec": {
   "display_name": "Python 3 (ipykernel)",
   "language": "python",
   "name": "python3"
  },
  "language_info": {
   "codemirror_mode": {
    "name": "ipython",
    "version": 3
   },
   "file_extension": ".py",
   "mimetype": "text/x-python",
   "name": "python",
   "nbconvert_exporter": "python",
   "pygments_lexer": "ipython3",
   "version": "3.11.5"
  }
 },
 "nbformat": 4,
 "nbformat_minor": 5
}
