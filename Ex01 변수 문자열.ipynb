{
 "cells": [
  {
   "cell_type": "code",
   "execution_count": 1,
   "id": "fe78097b",
   "metadata": {},
   "outputs": [],
   "source": [
    "# 앞의 색이 파란색이면, Commend mode (주피터 노트북 제어)\n",
    "# 앞의 색이 노란색이면 Edit mode (코드 작성 및 내용 입력)\n",
    "# 자바에서 주석은 //, 파이썬에서의 주석은 #"
   ]
  },
  {
   "cell_type": "code",
   "execution_count": 2,
   "id": "d7270af8",
   "metadata": {},
   "outputs": [],
   "source": [
    "# Commend mode 조작법 \n",
    "# 파란 색상일때 b : 아래에 셀 추가\n",
    "# a : 위에 셀 추가\n",
    "# dd : 셀 삭제\n",
    "# Enter : Edit mode로 전환\n",
    "# x : 셀 잘라내기\n",
    "# v : 셀 붙여넣기"
   ]
  },
  {
   "cell_type": "markdown",
   "id": "36049cf2",
   "metadata": {},
   "source": [
    "파란 색상일때 m : 마크다운(연습장과 같은 역활)\n",
    "# 제목1 \n",
    "## 제목2\n",
    "### 제목3\n",
    "#### 제목4\n",
    "##### 제목5\n",
    "###### 제목6\n",
    "\n",
    "- 안녕하세요 오늘 파이썬 처음이에용 ( 똥그라미 )\n",
    "    - 앞으로 파이썬도 많이 사랑해주세요. ( 네모 )"
   ]
  },
  {
   "cell_type": "code",
   "execution_count": 3,
   "id": "71790a5a",
   "metadata": {},
   "outputs": [],
   "source": [
    "# 코드가 작성된 줄에서 실행은 ctrl + enter\n",
    "num1 = 1"
   ]
  },
  {
   "cell_type": "code",
   "execution_count": 4,
   "id": "bb6d8503",
   "metadata": {},
   "outputs": [
    {
     "data": {
      "text/plain": [
       "1"
      ]
     },
     "execution_count": 4,
     "metadata": {},
     "output_type": "execute_result"
    }
   ],
   "source": [
    "num1"
   ]
  },
  {
   "cell_type": "code",
   "execution_count": 5,
   "id": "87fe4825",
   "metadata": {},
   "outputs": [],
   "source": [
    "# 공통 단축키\n",
    "# ctrl + enter : 현재 셀 실행\n",
    "# shift + enter : 현재 셀 실행 후 아래셀로 이동"
   ]
  },
  {
   "cell_type": "code",
   "execution_count": 6,
   "id": "23ec1c4a",
   "metadata": {},
   "outputs": [],
   "source": [
    "# 만들어볼까요?"
   ]
  },
  {
   "cell_type": "markdown",
   "id": "3d76202d",
   "metadata": {},
   "source": [
    "## 01변수 "
   ]
  },
  {
   "cell_type": "code",
   "execution_count": 7,
   "id": "0563a7e2",
   "metadata": {},
   "outputs": [],
   "source": [
    "num = 3"
   ]
  },
  {
   "cell_type": "code",
   "execution_count": 8,
   "id": "de0ae7a8",
   "metadata": {},
   "outputs": [
    {
     "name": "stdout",
     "output_type": "stream",
     "text": [
      "3\n"
     ]
    }
   ],
   "source": [
    "print(num)"
   ]
  },
  {
   "cell_type": "code",
   "execution_count": 9,
   "id": "27c488c0",
   "metadata": {},
   "outputs": [
    {
     "data": {
      "text/plain": [
       "3"
      ]
     },
     "execution_count": 9,
     "metadata": {},
     "output_type": "execute_result"
    }
   ],
   "source": [
    "num"
   ]
  },
  {
   "cell_type": "code",
   "execution_count": 10,
   "id": "147445e3",
   "metadata": {},
   "outputs": [],
   "source": [
    "# int , float\n",
    "# char타입 x, str만 있따.\n",
    "# boolean"
   ]
  },
  {
   "cell_type": "code",
   "execution_count": 11,
   "id": "8b7c36c2",
   "metadata": {},
   "outputs": [],
   "source": [
    "num1 = 13\n",
    "num2 = 25"
   ]
  },
  {
   "cell_type": "code",
   "execution_count": 12,
   "id": "4700fb9a",
   "metadata": {},
   "outputs": [
    {
     "data": {
      "text/plain": [
       "13"
      ]
     },
     "execution_count": 12,
     "metadata": {},
     "output_type": "execute_result"
    }
   ],
   "source": [
    "num1"
   ]
  },
  {
   "cell_type": "code",
   "execution_count": 13,
   "id": "7fa138a5",
   "metadata": {},
   "outputs": [
    {
     "data": {
      "text/plain": [
       "25"
      ]
     },
     "execution_count": 13,
     "metadata": {},
     "output_type": "execute_result"
    }
   ],
   "source": [
    "num2"
   ]
  },
  {
   "cell_type": "code",
   "execution_count": 14,
   "id": "fe2ce7f5",
   "metadata": {},
   "outputs": [],
   "source": [
    "num2 = 77"
   ]
  },
  {
   "cell_type": "code",
   "execution_count": 15,
   "id": "11603d76",
   "metadata": {},
   "outputs": [
    {
     "data": {
      "text/plain": [
       "77"
      ]
     },
     "execution_count": 15,
     "metadata": {},
     "output_type": "execute_result"
    }
   ],
   "source": [
    "num2"
   ]
  },
  {
   "cell_type": "code",
   "execution_count": 16,
   "id": "4c78c5e0",
   "metadata": {},
   "outputs": [
    {
     "name": "stdout",
     "output_type": "stream",
     "text": [
      "13 77\n"
     ]
    }
   ],
   "source": [
    "print(num1, num2)"
   ]
  },
  {
   "cell_type": "code",
   "execution_count": 17,
   "id": "a682f6fe",
   "metadata": {},
   "outputs": [],
   "source": [
    "num3 = 3.1425"
   ]
  },
  {
   "cell_type": "code",
   "execution_count": 18,
   "id": "704d7d22",
   "metadata": {},
   "outputs": [],
   "source": [
    "num4 = 1.25"
   ]
  },
  {
   "cell_type": "code",
   "execution_count": 19,
   "id": "effe62f4",
   "metadata": {},
   "outputs": [],
   "source": [
    "num4 = 3.12"
   ]
  },
  {
   "cell_type": "code",
   "execution_count": 20,
   "id": "211c5fcc",
   "metadata": {},
   "outputs": [
    {
     "name": "stdout",
     "output_type": "stream",
     "text": [
      "3.1425 3.12\n"
     ]
    }
   ],
   "source": [
    "print(num3,num4)"
   ]
  },
  {
   "cell_type": "code",
   "execution_count": 21,
   "id": "eaffb0e8",
   "metadata": {},
   "outputs": [],
   "source": [
    "str1 = \"Funny python\""
   ]
  },
  {
   "cell_type": "code",
   "execution_count": 22,
   "id": "b10b3d4b",
   "metadata": {},
   "outputs": [],
   "source": [
    "str2 = 'Easy python'"
   ]
  },
  {
   "cell_type": "code",
   "execution_count": 23,
   "id": "57f98919",
   "metadata": {},
   "outputs": [
    {
     "name": "stdout",
     "output_type": "stream",
     "text": [
      "Funny python\n",
      "Easy python\n"
     ]
    }
   ],
   "source": [
    "print(str1)\n",
    "print(str2)"
   ]
  },
  {
   "cell_type": "code",
   "execution_count": 24,
   "id": "b645efd5",
   "metadata": {},
   "outputs": [
    {
     "data": {
      "text/plain": [
       "['False',\n",
       " 'None',\n",
       " 'True',\n",
       " 'and',\n",
       " 'as',\n",
       " 'assert',\n",
       " 'async',\n",
       " 'await',\n",
       " 'break',\n",
       " 'class',\n",
       " 'continue',\n",
       " 'def',\n",
       " 'del',\n",
       " 'elif',\n",
       " 'else',\n",
       " 'except',\n",
       " 'finally',\n",
       " 'for',\n",
       " 'from',\n",
       " 'global',\n",
       " 'if',\n",
       " 'import',\n",
       " 'in',\n",
       " 'is',\n",
       " 'lambda',\n",
       " 'nonlocal',\n",
       " 'not',\n",
       " 'or',\n",
       " 'pass',\n",
       " 'raise',\n",
       " 'return',\n",
       " 'try',\n",
       " 'while',\n",
       " 'with',\n",
       " 'yield']"
      ]
     },
     "execution_count": 24,
     "metadata": {},
     "output_type": "execute_result"
    }
   ],
   "source": [
    "# 예약어 사용이 불가능하다(명령어는 가능하지만, 원래 기능이 사라진다)\n",
    "# for, if, class , def 예약어\n",
    "# sum, max, min 명령어\n",
    "import keyword\n",
    "keyword.kwlist #(파이썬 예약어 확인)"
   ]
  },
  {
   "cell_type": "markdown",
   "id": "1c49130d",
   "metadata": {},
   "source": [
    "# 변수명 규칙\n",
    "권장사항\n",
    "- 변수명의 첫 글자는 가급적 소문자로 만든다\n",
    "- 두 가지의 문자를 섞어서 변수명을 만들 경우 두 단어를 구분할 수 있게 한다."
   ]
  },
  {
   "cell_type": "code",
   "execution_count": 25,
   "id": "f27ff446",
   "metadata": {},
   "outputs": [
    {
     "name": "stdout",
     "output_type": "stream",
     "text": [
      "10\n",
      "15\n"
     ]
    }
   ],
   "source": [
    "a = 10\n",
    "b = 15\n",
    "print(a)\n",
    "print(b)"
   ]
  },
  {
   "cell_type": "code",
   "execution_count": 26,
   "id": "adcbae4e",
   "metadata": {},
   "outputs": [
    {
     "name": "stdout",
     "output_type": "stream",
     "text": [
      "11\n",
      "16\n"
     ]
    }
   ],
   "source": [
    "# , 기준으로 다중변수 입력이 가능하다.\n",
    "a, b = 11, 16\n",
    "print(a)\n",
    "print(b)"
   ]
  },
  {
   "cell_type": "code",
   "execution_count": 27,
   "id": "0d047180",
   "metadata": {},
   "outputs": [
    {
     "name": "stdout",
     "output_type": "stream",
     "text": [
      "python\n",
      "python\n"
     ]
    }
   ],
   "source": [
    "str1 = 'python'\n",
    "str2 = 'python'\n",
    "print(str1)\n",
    "print(str2)"
   ]
  },
  {
   "cell_type": "code",
   "execution_count": 28,
   "id": "28dc0dd5",
   "metadata": {},
   "outputs": [],
   "source": [
    "# 두 변수에 같은 값을 줄수 있다.\n",
    "str1 = str2 = 'python'"
   ]
  },
  {
   "cell_type": "code",
   "execution_count": 29,
   "id": "b10bf197",
   "metadata": {},
   "outputs": [
    {
     "name": "stdout",
     "output_type": "stream",
     "text": [
      "python\n",
      "python\n"
     ]
    }
   ],
   "source": [
    "print(str1)\n",
    "print(str2)"
   ]
  },
  {
   "cell_type": "code",
   "execution_count": 30,
   "id": "d840ffc4",
   "metadata": {},
   "outputs": [
    {
     "name": "stdout",
     "output_type": "stream",
     "text": [
      "300\n"
     ]
    }
   ],
   "source": [
    "x = 100\n",
    "y = 200\n",
    "sum1 = x+y\n",
    "print(sum1)"
   ]
  },
  {
   "cell_type": "code",
   "execution_count": 31,
   "id": "555a8ae6",
   "metadata": {},
   "outputs": [
    {
     "data": {
      "text/plain": [
       "300"
      ]
     },
     "execution_count": 31,
     "metadata": {},
     "output_type": "execute_result"
    }
   ],
   "source": [
    "sum([x,y])"
   ]
  },
  {
   "cell_type": "code",
   "execution_count": 32,
   "id": "30c7b1b1",
   "metadata": {},
   "outputs": [],
   "source": [
    "s = 'she\\'s gone'"
   ]
  },
  {
   "cell_type": "code",
   "execution_count": 33,
   "id": "78eb9a82",
   "metadata": {},
   "outputs": [
    {
     "name": "stdout",
     "output_type": "stream",
     "text": [
      "she's gone\n"
     ]
    }
   ],
   "source": [
    "print(s)"
   ]
  },
  {
   "cell_type": "code",
   "execution_count": 34,
   "id": "8188e181",
   "metadata": {},
   "outputs": [
    {
     "data": {
      "text/plain": [
       "'여러줄로 구성된 \\n문자열을 하나로 \\n출력하고 싶을 때'"
      ]
     },
     "execution_count": 34,
     "metadata": {},
     "output_type": "execute_result"
    }
   ],
   "source": [
    "# 여러줄로 구성된 문자열을 변수에 대입하고 싶을때\n",
    "# 여러줄로 구성된\n",
    "# 문자열을 변수에\n",
    "# 대입하고 싶을때\n",
    "# println * 3\n",
    "# \\n(개행 문자)\n",
    "s = \"여러줄로 구성된 \\n문자열을 하나로 \\n출력하고 싶을 때\"\n",
    "s"
   ]
  },
  {
   "cell_type": "code",
   "execution_count": 35,
   "id": "4379fa4f",
   "metadata": {},
   "outputs": [
    {
     "name": "stdout",
     "output_type": "stream",
     "text": [
      "여러줄로 구성된 \n",
      "문자열을 하나로 \n",
      "출력하고 싶을 때\n"
     ]
    }
   ],
   "source": [
    "print(s)"
   ]
  },
  {
   "cell_type": "code",
   "execution_count": 36,
   "id": "a33db997",
   "metadata": {},
   "outputs": [
    {
     "name": "stdout",
     "output_type": "stream",
     "text": [
      "여러줄로 구성된 \n",
      "문자열을 하나로 \n",
      "출력하고 싶을 때\n"
     ]
    }
   ],
   "source": [
    "s = \"\"\"여러줄로 구성된 \n",
    "문자열을 하나로 \n",
    "출력하고 싶을 때\"\"\"\n",
    "print(s)"
   ]
  },
  {
   "cell_type": "code",
   "execution_count": 37,
   "id": "979b0713",
   "metadata": {},
   "outputs": [
    {
     "name": "stdout",
     "output_type": "stream",
     "text": [
      "\n",
      "1교시 : HTML/CSS\n",
      "2교시 : HTML/CSS\n",
      "3교시 : HTML/CSS\n",
      "4교시 : HTML/CSS\n",
      "5교시 : 파이썬 라이브러리\n",
      "6교시 : 파이썬 라이브러리\n",
      "7교시 : 파이썬 라이브러리\n"
     ]
    }
   ],
   "source": [
    "# 문자열 포맷팅\n",
    "# 문자 내부에서, 자주 바뀌는 부분을 변수 처리해서 원하는 결과를 출력하는 방법\n",
    "am = \"HTML/CSS\"\n",
    "pm = \"파이썬 라이브러리\"\n",
    "\n",
    "s = f\"\"\"\n",
    "1교시 : {am}\n",
    "2교시 : {am}\n",
    "3교시 : {am}\n",
    "4교시 : {am}\n",
    "5교시 : {pm}\n",
    "6교시 : {pm}\n",
    "7교시 : {pm}\"\"\"\n",
    "\n",
    "print(s)"
   ]
  },
  {
   "cell_type": "markdown",
   "id": "316e608a",
   "metadata": {},
   "source": [
    "### 인덱싱 / 슬라이싱(1회차)\n",
    "- 인덱싱 : 무엇인가를 '가리킨다' 라는 의미\n",
    "- 슬라이싱 : 무엇인가를 '잘라낸다' 라는 의미"
   ]
  },
  {
   "cell_type": "code",
   "execution_count": 38,
   "id": "3da649df",
   "metadata": {},
   "outputs": [
    {
     "data": {
      "text/plain": [
       "'i'"
      ]
     },
     "execution_count": 38,
     "metadata": {},
     "output_type": "execute_result"
    }
   ],
   "source": [
    "s = \"my name is IY\"\n",
    "s[8]"
   ]
  },
  {
   "cell_type": "code",
   "execution_count": 39,
   "id": "f6f95428",
   "metadata": {},
   "outputs": [
    {
     "data": {
      "text/plain": [
       "'Y'"
      ]
     },
     "execution_count": 39,
     "metadata": {},
     "output_type": "execute_result"
    }
   ],
   "source": [
    "s[12]"
   ]
  },
  {
   "cell_type": "code",
   "execution_count": 40,
   "id": "efe028bd",
   "metadata": {},
   "outputs": [
    {
     "data": {
      "text/plain": [
       "'I'"
      ]
     },
     "execution_count": 40,
     "metadata": {},
     "output_type": "execute_result"
    }
   ],
   "source": [
    "s[-2]"
   ]
  },
  {
   "cell_type": "code",
   "execution_count": 41,
   "id": "d5808df4",
   "metadata": {},
   "outputs": [
    {
     "name": "stdout",
     "output_type": "stream",
     "text": [
      "I Y\n"
     ]
    },
    {
     "data": {
      "text/plain": [
       "('I', 'Y')"
      ]
     },
     "execution_count": 41,
     "metadata": {},
     "output_type": "execute_result"
    }
   ],
   "source": [
    "# 문자열 인덱싱 실습\n",
    "# 여러분들의 이름 이니셜에 해당하는 글자를 가져와주세요\n",
    "# ex) my name is IY -> \"I\",\"Y\"\n",
    "print(s[11],s[12])\n",
    "s[11],s[12]"
   ]
  },
  {
   "cell_type": "code",
   "execution_count": 42,
   "id": "ae5e911c",
   "metadata": {},
   "outputs": [],
   "source": [
    "# 인덱스의 시작번호는 항상 0부터 시작한다\n",
    "# 슬라이싱에서 인덱스의 끝 번호는 항상 어떻게 처리한다? +1을 해준다."
   ]
  },
  {
   "cell_type": "code",
   "execution_count": 43,
   "id": "7395d02c",
   "metadata": {},
   "outputs": [
    {
     "data": {
      "text/plain": [
       "'name'"
      ]
     },
     "execution_count": 43,
     "metadata": {},
     "output_type": "execute_result"
    }
   ],
   "source": [
    "# 인덱싱으로 글자 하나하나 가져오는거 불편하다!\n",
    "# 범위를 정해서 단어를 가져와보자\n",
    "# 데이터 슬라이싱\n",
    "# : 데이터를 범위별로 가져온다.\n",
    "# s[ 인덱스 시작번호 : 인덱스 끝번호 + 1 ]\n",
    "s[3 : 7]"
   ]
  },
  {
   "cell_type": "code",
   "execution_count": 44,
   "id": "4d50d348",
   "metadata": {},
   "outputs": [
    {
     "data": {
      "text/plain": [
       "'my name is IY'"
      ]
     },
     "execution_count": 44,
     "metadata": {},
     "output_type": "execute_result"
    }
   ],
   "source": [
    "s"
   ]
  },
  {
   "cell_type": "code",
   "execution_count": 45,
   "id": "55c15e93",
   "metadata": {},
   "outputs": [
    {
     "data": {
      "text/plain": [
       "'my'"
      ]
     },
     "execution_count": 45,
     "metadata": {},
     "output_type": "execute_result"
    }
   ],
   "source": [
    "# my를 가져와보자\n",
    "s[0:2]"
   ]
  },
  {
   "cell_type": "code",
   "execution_count": 49,
   "id": "79adc062",
   "metadata": {},
   "outputs": [
    {
     "data": {
      "text/plain": [
       "'is'"
      ]
     },
     "execution_count": 49,
     "metadata": {},
     "output_type": "execute_result"
    }
   ],
   "source": [
    "# is를 가져와보자\n",
    "s[8:10]"
   ]
  },
  {
   "cell_type": "code",
   "execution_count": 67,
   "id": "77c0a773",
   "metadata": {},
   "outputs": [
    {
     "data": {
      "text/plain": [
       "'IY'"
      ]
     },
     "execution_count": 67,
     "metadata": {},
     "output_type": "execute_result"
    }
   ],
   "source": [
    "# IY를 가져와보자\n",
    "s[-2:]"
   ]
  },
  {
   "cell_type": "code",
   "execution_count": 69,
   "id": "921b86fe",
   "metadata": {},
   "outputs": [
    {
     "data": {
      "text/plain": [
       "'my name'"
      ]
     },
     "execution_count": 69,
     "metadata": {},
     "output_type": "execute_result"
    }
   ],
   "source": [
    "# 슬라이싱에서 값을 생략하는 것에 대한 의미\n",
    "# 변수 [ 시작값 인덱스 : 끝값 인덱스 + 1 ]\n",
    "# 시작값이 생략되는 경우 -> 데이터의 처음부터(인덱스 번호 0번부터)\n",
    "print(s[ 0 : 7])\n",
    "print(s[ : 7 ])"
   ]
  },
  {
   "cell_type": "code",
   "execution_count": 70,
   "id": "0a8d3f93",
   "metadata": {},
   "outputs": [
    {
     "name": "stdout",
     "output_type": "stream",
     "text": [
      "s IY\n",
      "s IY\n"
     ]
    }
   ],
   "source": [
    "# 끝값이 생략되는 경우 -> 데이터의 (인덱스 번호 0번부터)\n",
    "print(s[9 : 13])\n",
    "print(s[9 : ])"
   ]
  },
  {
   "cell_type": "code",
   "execution_count": 71,
   "id": "d1608d58",
   "metadata": {},
   "outputs": [
    {
     "name": "stdout",
     "output_type": "stream",
     "text": [
      "my name is IY\n"
     ]
    }
   ],
   "source": [
    "# 문자열에 처음부터 끝까지 모든 문자를 가져오고 싶으면 어떻게 해야할까?\n",
    "print(s[:])"
   ]
  },
  {
   "cell_type": "code",
   "execution_count": 72,
   "id": "4cd5a334",
   "metadata": {},
   "outputs": [
    {
     "data": {
      "text/plain": [
       "'my name is IY'"
      ]
     },
     "execution_count": 72,
     "metadata": {},
     "output_type": "execute_result"
    }
   ],
   "source": [
    "s"
   ]
  },
  {
   "cell_type": "code",
   "execution_count": 79,
   "id": "112f4ae8",
   "metadata": {},
   "outputs": [
    {
     "name": "stdout",
     "output_type": "stream",
     "text": [
      "날짜 : 2024년 1월 30일\n",
      "날씨 : 맑음\n"
     ]
    }
   ],
   "source": [
    "# 다음과 같은 문자열에서 날짜와 날씨를 따로 뽑아서 출력해보자\n",
    "s = \"2024년 1월 30일의 날씨는 맑음입니다.\"\n",
    "print(\"날짜 : \" + s[0 : 12])\n",
    "print(\"날씨 : \" + s[-6 :-4])"
   ]
  },
  {
   "cell_type": "code",
   "execution_count": 85,
   "id": "6e18e3d9",
   "metadata": {},
   "outputs": [
    {
     "data": {
      "text/plain": [
       "'오늘은 1월 11일입니다.'"
      ]
     },
     "execution_count": 85,
     "metadata": {},
     "output_type": "execute_result"
    }
   ],
   "source": [
    "# 문자열 포매팅 실습\n",
    "# 문자열 포매팅 : 문자 내부의 특정한 값을 바꿔야 할 경우 사용\n",
    "# 1. %d 포매팅\n",
    "day = 11\n",
    "s = \"오늘은 1월 %d일입니다.\"%day\n",
    "s"
   ]
  },
  {
   "cell_type": "code",
   "execution_count": 87,
   "id": "d5b7e860",
   "metadata": {},
   "outputs": [
    {
     "data": {
      "text/plain": [
       "'오늘은 1월 11일입니다.'"
      ]
     },
     "execution_count": 87,
     "metadata": {},
     "output_type": "execute_result"
    }
   ],
   "source": [
    "month = 1\n",
    "day = 11\n",
    "s = \"오늘은 %d월 %d일입니다.\"%(month, day)\n",
    "s"
   ]
  },
  {
   "cell_type": "code",
   "execution_count": 88,
   "id": "0b4de60e",
   "metadata": {},
   "outputs": [
    {
     "data": {
      "text/plain": [
       "'오늘은 1월 11일입니다.'"
      ]
     },
     "execution_count": 88,
     "metadata": {},
     "output_type": "execute_result"
    }
   ],
   "source": [
    "# 2. format 함수를 이용한 포매팅\n",
    "month = 1\n",
    "day = 11\n",
    "s = \"오늘은 {}월 {}일입니다.\".format(month,day)\n",
    "s"
   ]
  },
  {
   "cell_type": "code",
   "execution_count": 89,
   "id": "6f1e2a2a",
   "metadata": {},
   "outputs": [
    {
     "data": {
      "text/plain": [
       "'오늘은 1월 11일입니다.'"
      ]
     },
     "execution_count": 89,
     "metadata": {},
     "output_type": "execute_result"
    }
   ],
   "source": [
    "# 3. f포매팅\n",
    "month = 1\n",
    "day = 11\n",
    "s = f\"오늘은 {month}월 {day}일입니다.\"\n",
    "s"
   ]
  },
  {
   "cell_type": "code",
   "execution_count": 1,
   "id": "48c15186",
   "metadata": {},
   "outputs": [
    {
     "name": "stdout",
     "output_type": "stream",
     "text": [
      "140와 300의 합은 440입니다.\n"
     ]
    }
   ],
   "source": [
    "x = 140\n",
    "y = 300\n",
    "sum2 = x+y\n",
    "print(f\"{x}와 {y}의 합은 {sum2}입니다.\")"
   ]
  },
  {
   "cell_type": "code",
   "execution_count": 4,
   "id": "ba7d0e26",
   "metadata": {},
   "outputs": [
    {
     "data": {
      "text/plain": [
       "'감기조심하세요'"
      ]
     },
     "execution_count": 4,
     "metadata": {},
     "output_type": "execute_result"
    }
   ],
   "source": [
    "# strip() : 문자의 양쪽 공백을 없애주는 함수\n",
    "s = \"                  감기조심하세요           \"\n",
    "s.strip()\n"
   ]
  },
  {
   "cell_type": "code",
   "execution_count": 6,
   "id": "baaab45b",
   "metadata": {},
   "outputs": [
    {
     "data": {
      "text/plain": [
       "'안녕하하세요'"
      ]
     },
     "execution_count": 6,
     "metadata": {},
     "output_type": "execute_result"
    }
   ],
   "source": [
    "# replace(기존의 문자, 바꿀 문자)\n",
    "s = '안녕 하세요'\n",
    "s.replace(\" \",\"하\")"
   ]
  },
  {
   "cell_type": "code",
   "execution_count": 9,
   "id": "16e4dc28",
   "metadata": {},
   "outputs": [
    {
     "data": {
      "text/plain": [
       "'안녕하세요. 범수짜응, 범수짜응씨는 온르 잘 보내고 있난요?'"
      ]
     },
     "execution_count": 9,
     "metadata": {},
     "output_type": "execute_result"
    }
   ],
   "source": [
    "s = \"안녕하세요. 상원, 상원씨는 온르 잘 보내고 있난요?\"\n",
    "s.replace(\"상원\",\"범수짜응\")"
   ]
  },
  {
   "cell_type": "code",
   "execution_count": 15,
   "id": "5f76fb4b",
   "metadata": {},
   "outputs": [
    {
     "data": {
      "text/plain": [
       "['', '석 ', '건 준범 동완']"
      ]
     },
     "execution_count": 15,
     "metadata": {},
     "output_type": "execute_result"
    }
   ],
   "source": [
    "# split()\n",
    "s = \"우석 우건 준범 동완\"\n",
    "s.split(\"우\")"
   ]
  }
 ],
 "metadata": {
  "kernelspec": {
   "display_name": "Python 3 (ipykernel)",
   "language": "python",
   "name": "python3"
  },
  "language_info": {
   "codemirror_mode": {
    "name": "ipython",
    "version": 3
   },
   "file_extension": ".py",
   "mimetype": "text/x-python",
   "name": "python",
   "nbconvert_exporter": "python",
   "pygments_lexer": "ipython3",
   "version": "3.11.5"
  }
 },
 "nbformat": 4,
 "nbformat_minor": 5
}
