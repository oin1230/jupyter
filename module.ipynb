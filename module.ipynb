{
 "cells": [
  {
   "cell_type": "code",
   "execution_count": null,
   "id": "2bf83c81",
   "metadata": {},
   "outputs": [],
   "source": [
    "# 계산기 불러오기\n",
    "import calculator as cal"
   ]
  },
  {
   "cell_type": "code",
   "execution_count": null,
   "id": "634cf417",
   "metadata": {},
   "outputs": [],
   "source": [
    "# 덧셈 진행해보기\n",
    "cal.add(1,2)"
   ]
  },
  {
   "cell_type": "code",
   "execution_count": null,
   "id": "0af378a8",
   "metadata": {},
   "outputs": [],
   "source": [
    "# 뺄셈 진행하기\n",
    "cal.minus(5,2)"
   ]
  },
  {
   "cell_type": "code",
   "execution_count": null,
   "id": "14ee4685",
   "metadata": {},
   "outputs": [],
   "source": [
    "# 특정 함수만 불러오기\n",
    "from calculator import add"
   ]
  },
  {
   "cell_type": "code",
   "execution_count": null,
   "id": "c9a53d4d",
   "metadata": {},
   "outputs": [],
   "source": [
    "add(1,2)"
   ]
  },
  {
   "cell_type": "code",
   "execution_count": null,
   "id": "31a4d5e4",
   "metadata": {},
   "outputs": [],
   "source": [
    "minus(5,2)"
   ]
  }
 ],
 "metadata": {
  "kernelspec": {
   "display_name": "Python 3 (ipykernel)",
   "language": "python",
   "name": "python3"
  },
  "language_info": {
   "codemirror_mode": {
    "name": "ipython",
    "version": 3
   },
   "file_extension": ".py",
   "mimetype": "text/x-python",
   "name": "python",
   "nbconvert_exporter": "python",
   "pygments_lexer": "ipython3",
   "version": "3.11.5"
  }
 },
 "nbformat": 4,
 "nbformat_minor": 5
}
