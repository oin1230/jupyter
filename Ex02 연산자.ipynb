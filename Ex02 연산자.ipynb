{
 "cells": [
  {
   "cell_type": "code",
   "execution_count": 1,
   "id": "a4b023e1",
   "metadata": {},
   "outputs": [
    {
     "name": "stdout",
     "output_type": "stream",
     "text": [
      "1.4285714285714286\n",
      "3\n",
      "1\n"
     ]
    }
   ],
   "source": [
    "num1 = 10\n",
    "num2 = 7\n",
    "print(num1/num2)\n",
    "print(num1%num2)\n",
    "print(num1//num2)"
   ]
  },
  {
   "cell_type": "code",
   "execution_count": 4,
   "id": "891bf5d1",
   "metadata": {},
   "outputs": [
    {
     "data": {
      "text/plain": [
       "'107'"
      ]
     },
     "execution_count": 4,
     "metadata": {},
     "output_type": "execute_result"
    }
   ],
   "source": [
    "# 문자열을 더할수 있다.\n",
    "str1 = \"10\"\n",
    "str2 = \"7\"\n",
    "str1 + str2"
   ]
  },
  {
   "cell_type": "code",
   "execution_count": 5,
   "id": "6b57a79c",
   "metadata": {},
   "outputs": [
    {
     "ename": "TypeError",
     "evalue": "unsupported operand type(s) for +: 'int' and 'str'",
     "output_type": "error",
     "traceback": [
      "\u001b[1;31m---------------------------------------------------------------------------\u001b[0m",
      "\u001b[1;31mTypeError\u001b[0m                                 Traceback (most recent call last)",
      "Cell \u001b[1;32mIn[5], line 3\u001b[0m\n\u001b[0;32m      1\u001b[0m num1 \u001b[38;5;241m=\u001b[39m \u001b[38;5;241m10\u001b[39m\n\u001b[0;32m      2\u001b[0m str2 \u001b[38;5;241m=\u001b[39m \u001b[38;5;124m\"\u001b[39m\u001b[38;5;124m7\u001b[39m\u001b[38;5;124m\"\u001b[39m\n\u001b[1;32m----> 3\u001b[0m num1 \u001b[38;5;241m+\u001b[39m str2\n",
      "\u001b[1;31mTypeError\u001b[0m: unsupported operand type(s) for +: 'int' and 'str'"
     ]
    }
   ],
   "source": [
    "num1 = 10\n",
    "str2 = \"7\"\n",
    "num1 + str2\n",
    "# 타입이 다르기 떄문에 연산이 되지 않는다."
   ]
  },
  {
   "cell_type": "code",
   "execution_count": 7,
   "id": "32b4db94",
   "metadata": {},
   "outputs": [
    {
     "name": "stdout",
     "output_type": "stream",
     "text": [
      "107\n",
      "17\n"
     ]
    }
   ],
   "source": [
    "# 타입이 달라서 연산이 되지 않는 경우 형 변환을 해줘야 한다.\n",
    "# 숫자를 문자로 바꿔주는 방식\n",
    "print(str(num1)+str2) #문자열 더하기\n",
    "\n",
    "# 문자를 숫자로 바꿔주는 방식\n",
    "print(num1+int(str2))"
   ]
  },
  {
   "cell_type": "code",
   "execution_count": 18,
   "id": "2fdd7b04",
   "metadata": {},
   "outputs": [
    {
     "name": "stdout",
     "output_type": "stream",
     "text": [
      "\n",
      "더하기결과 : 26\n",
      "빼기 결과 : 20\n",
      "곱하기 결과 : 69\n",
      "나누기 결과 : 7.666666666666667\n"
     ]
    }
   ],
   "source": [
    "num1 = 23\n",
    "num2 = 3\n",
    "n1 = num1 + num2\n",
    "n2 = num1 - num2\n",
    "n3 = num1 * num2\n",
    "n4 = num1 / num2\n",
    "print(f\"\"\"\n",
    "더하기결과 : {n1}\n",
    "빼기 결과 : {n2}\n",
    "곱하기 결과 : {n3}\n",
    "# 입력문을 통햇나누기 결과 : {n4}\"\"\")"
   ]
  },
  {
   "cell_type": "code",
   "execution_count": 31,
   "id": "6c33ebd8",
   "metadata": {},
   "outputs": [
    {
     "name": "stdout",
     "output_type": "stream",
     "text": [
      "정수를 입력해주세요10\n",
      "정수를 입력해주세요7\n",
      "더하기 결과 : 17\n",
      "빼기 결과 :3\n",
      "곱하기 결과 :  17\n",
      "나누기 결과 :  1.4285714285714286\n"
     ]
    }
   ],
   "source": [
    "# 입력문을 통해서 num1과 num2를 입력 받고 연산 결과를 살펴 봅시다.\n",
    "# input(\"표시할 문장\") -> 입력문은 str형으로 값을 돌려준다\n",
    "# 숫자 연산을 진행하고 싶으면 형 변환이 필요하다.\n",
    "\n",
    "num1 = int(input(\"정수를 입력해주세요\"))\n",
    "num2 = int(input(\"정수를 입력해주세요\"))\n",
    "print(f\"더하기 결과 : {num1 + num2}\")\n",
    "print(\"빼기 결과 :\" + str(num1 - num2))\n",
    "print( \"곱하기 결과 : \", (num1 + num2))\n",
    "print(\"나누기 결과 : \", (num1 / num2))\n",
    "      "
   ]
  },
  {
   "cell_type": "code",
   "execution_count": 32,
   "id": "3f244297",
   "metadata": {},
   "outputs": [
    {
     "name": "stdout",
     "output_type": "stream",
     "text": [
      "<class 'int'>\n",
      "<class 'int'>\n"
     ]
    }
   ],
   "source": [
    "print(type(num1))\n",
    "print(type(num2))"
   ]
  },
  {
   "cell_type": "code",
   "execution_count": 34,
   "id": "eeb12ee7",
   "metadata": {},
   "outputs": [
    {
     "name": "stdout",
     "output_type": "stream",
     "text": [
      "python 점수 입력 >> 100\n",
      "머신러닝 점수 입력 >> 80\n",
      "딥러닝 점수 입력 >>60\n",
      "합계 : 240\n",
      "평균 : 80.0\n"
     ]
    }
   ],
   "source": [
    "p = int(input(\"python 점수 입력 >> \"))\n",
    "m = int(input(\"머신러닝 점수 입력 >> \"))\n",
    "d = int(input(\"딥러닝 점수 입력 >>\"))\n",
    "\n",
    "print(\"합계 : {}\".format(p+m+d))\n",
    "print(\"평균 : {}\".format((p+m+d)/3))"
   ]
  },
  {
   "cell_type": "code",
   "execution_count": 4,
   "id": "2861539c",
   "metadata": {},
   "outputs": [
    {
     "name": "stdout",
     "output_type": "stream",
     "text": [
      "시간 입력 >> 1123\n",
      "0시간 18분 43초\n"
     ]
    }
   ],
   "source": [
    "time = int(input(\"시간 입력(초) >> \"))\n",
    "hour = time // 3600\n",
    "minute = time % 3600 // 60\n",
    "second = time % 60\n",
    "\n",
    "print(f\"{hour}시간 {minute}분 {second}초\")"
   ]
  },
  {
   "cell_type": "code",
   "execution_count": 11,
   "id": "2e17813b",
   "metadata": {},
   "outputs": [
    {
     "name": "stdout",
     "output_type": "stream",
     "text": [
      "**********\n",
      "안녕하세요안녕하세요\n"
     ]
    }
   ],
   "source": [
    "# 문자열 곱하기\n",
    "s = \"*\"\n",
    "print(s * 10)\n",
    "s = \"안녕하세요\"\n",
    "print(s*2)"
   ]
  },
  {
   "cell_type": "code",
   "execution_count": null,
   "id": "686694ad",
   "metadata": {},
   "outputs": [],
   "source": []
  },
  {
   "cell_type": "code",
   "execution_count": 15,
   "id": "9b4e1b81",
   "metadata": {},
   "outputs": [
    {
     "name": "stdout",
     "output_type": "stream",
     "text": [
      "정수 입력 >> 10\n",
      "지수 입력 >> 2\n",
      "10의 2승은 100입니다.\n"
     ]
    }
   ],
   "source": [
    "# 지수 연산자 문제\n",
    "num = int(input(\"정수 입력 >> \"))\n",
    "power = int(input(\"지수 입력 >> \"))\n",
    "\n",
    "print(f\"{num}의 {power}승은 {num**power}입니다.\")\n"
   ]
  },
  {
   "cell_type": "code",
   "execution_count": 28,
   "id": "0620f098",
   "metadata": {},
   "outputs": [
    {
     "name": "stdout",
     "output_type": "stream",
     "text": [
      "***** 연산하기 *****\n",
      "정수 입력 >> 1\n",
      "정수 입력 >> 2\n",
      "+ 연산자 입력 >> +\n",
      "1 + 2 = 3\n"
     ]
    }
   ],
   "source": [
    "print(\"*\" * 5, \"연산하기\", \"*\"*5)\n",
    "num1 = int(input(\"정수 입력 >> \"))\n",
    "num2 = int(input(\"정수 입력 >> \"))\n",
    "cal = input(\"+ 연산자 입력 >> \")\n",
    "\n",
    "print(f\"{num1} {cal} {num2} = {num1+num2}\")"
   ]
  },
  {
   "cell_type": "code",
   "execution_count": 32,
   "id": "004b5e33",
   "metadata": {},
   "outputs": [
    {
     "data": {
      "text/plain": [
       "45"
      ]
     },
     "execution_count": 32,
     "metadata": {},
     "output_type": "execute_result"
    }
   ],
   "source": [
    "num = 100\n",
    "num -= 55\n",
    "num"
   ]
  },
  {
   "cell_type": "code",
   "execution_count": 33,
   "id": "2f8687dd",
   "metadata": {},
   "outputs": [
    {
     "data": {
      "text/plain": [
       "36"
      ]
     },
     "execution_count": 33,
     "metadata": {},
     "output_type": "execute_result"
    }
   ],
   "source": [
    "num = 27\n",
    "num += 3\n",
    "num += 3\n",
    "num += 3\n",
    "num"
   ]
  },
  {
   "cell_type": "code",
   "execution_count": 35,
   "id": "51807f0e",
   "metadata": {},
   "outputs": [
    {
     "name": "stdout",
     "output_type": "stream",
     "text": [
      "a :  3\n",
      "b :  7\n"
     ]
    }
   ],
   "source": [
    "# 변수 치환\n",
    "a = 7\n",
    "b = 3\n",
    "temp = a # 7\n",
    "a = b # 7 -> 3\n",
    "b = temp # 3 -> 7\n",
    "\n",
    "print(\"a : \", a)\n",
    "print(\"b : \", b)\n"
   ]
  },
  {
   "cell_type": "code",
   "execution_count": 36,
   "id": "7de81883",
   "metadata": {},
   "outputs": [
    {
     "name": "stdout",
     "output_type": "stream",
     "text": [
      "a : 3\n",
      "b : 7\n"
     ]
    }
   ],
   "source": [
    "a = 7\n",
    "b = 3\n",
    "a, b = b,a\n",
    "print(\"a :\", a)\n",
    "print(\"b :\", b)"
   ]
  },
  {
   "cell_type": "code",
   "execution_count": 37,
   "id": "0a14dba2",
   "metadata": {},
   "outputs": [
    {
     "name": "stdout",
     "output_type": "stream",
     "text": [
      "False\n",
      "True\n",
      "False\n",
      "True\n"
     ]
    }
   ],
   "source": [
    "a = 3\n",
    "b = 7\n",
    "print( a > b) #false\n",
    "print( a <= b) #true\n",
    "print( a == b) #false\n",
    "print( a != b) # true"
   ]
  },
  {
   "cell_type": "code",
   "execution_count": 41,
   "id": "202a91ea",
   "metadata": {},
   "outputs": [
    {
     "name": "stdout",
     "output_type": "stream",
     "text": [
      "a : 9, b : 3\n",
      "False\n",
      "True\n",
      "False\n",
      "True\n"
     ]
    }
   ],
   "source": [
    "import random\n",
    "# random.randint : 범위내의 값을 랜덤을 뽑아주는 함수(정수)\n",
    "a = random.randint(1,10)\n",
    "b = random.randint(1,10)\n",
    "print(f\"a : {a}, b : {b}\")\n",
    "print(a < b)\n",
    "print(a > b)\n",
    "print(a == b)\n",
    "print(a != b)"
   ]
  },
  {
   "cell_type": "code",
   "execution_count": 43,
   "id": "a1318c5f",
   "metadata": {},
   "outputs": [
    {
     "data": {
      "text/plain": [
       "True"
      ]
     },
     "execution_count": 43,
     "metadata": {},
     "output_type": "execute_result"
    }
   ],
   "source": [
    "# 논리(True, False) 연산자\n",
    "a = 3\n",
    "b = 7\n",
    "not a == b"
   ]
  },
  {
   "cell_type": "code",
   "execution_count": 46,
   "id": "865945b8",
   "metadata": {},
   "outputs": [
    {
     "data": {
      "text/plain": [
       "'합격'"
      ]
     },
     "execution_count": 46,
     "metadata": {},
     "output_type": "execute_result"
    }
   ],
   "source": [
    "# 삼항 연산자 \n",
    "# a if 조건식 else b\n",
    "#참일경우 a, 거짓일경우 b\n",
    "score = 63\n",
    "\"합격\"if score >= 60 else\"불합격\""
   ]
  },
  {
   "cell_type": "code",
   "execution_count": 52,
   "id": "44f8417f",
   "metadata": {},
   "outputs": [
    {
     "name": "stdout",
     "output_type": "stream",
     "text": [
      "정수입력 >> 5\n",
      "정수입력 >> 5\n",
      "b :  5\n"
     ]
    }
   ],
   "source": [
    "a = int(input(\"정수입력 >> \"))\n",
    "b = int(input(\"정수입력 >> \"))\n",
    "\n",
    "print(\"a :\",a) if a > b else print(\"b : \",b)"
   ]
  },
  {
   "cell_type": "code",
   "execution_count": null,
   "id": "9db3190f",
   "metadata": {},
   "outputs": [],
   "source": [
    "# "
   ]
  }
 ],
 "metadata": {
  "kernelspec": {
   "display_name": "Python 3 (ipykernel)",
   "language": "python",
   "name": "python3"
  },
  "language_info": {
   "codemirror_mode": {
    "name": "ipython",
    "version": 3
   },
   "file_extension": ".py",
   "mimetype": "text/x-python",
   "name": "python",
   "nbconvert_exporter": "python",
   "pygments_lexer": "ipython3",
   "version": "3.11.5"
  }
 },
 "nbformat": 4,
 "nbformat_minor": 5
}
